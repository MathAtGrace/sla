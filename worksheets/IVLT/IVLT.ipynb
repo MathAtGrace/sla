{
"cells": [
{"cell_type": "markdown", "metadata": {}, "source": [
"$\\newcommand{\\lt}{<}\\newcommand{\\gt}{>}\\newcommand{\\amp}{&}$"]},
{"cell_type": "markdown", "metadata": {}, "source": [
"## 1 Invertible Linear Transformations"]},
{"cell_type": "markdown", "metadata": {}, "source": [
"A carefully-crafted invertible linear transformation from $\\mathbb{Q}^5$ to $\\mathbb{Q}^5$."]},
{"cell_type" : "code", "execution_count" : null, "metadata" : {}, "source": [
"A = matrix(QQ, [[1, 1, -1, -2, 0], [-3, -2, 1, 4, 7],\n",
"    [2, 2, -1, -3, -4], [-4, -3, 3, 8, 3], [5, 6, -7, -8, 8]])\n",
"T = linear_transformation(QQ^5, QQ^5, A, side='right')\n",
"T"],"outputs" : []},
{"cell_type" : "code", "execution_count" : null, "metadata" : {}, "source": [
"T.is_injective(), T.is_surjective()"],"outputs" : []},
{"cell_type" : "code", "execution_count" : null, "metadata" : {}, "source": [
"T.is_invertible()"],"outputs" : []},
{"cell_type" : "code", "execution_count" : null, "metadata" : {}, "source": [
"S = T.inverse()\n",
"S"],"outputs" : []},
{"cell_type": "markdown", "metadata": {}, "source": [
"The ````*```` operator, like we would use for multiplication, will create a composition.  This will be perfectly natural once we discuss Section MR.  Here, composing an invertible linear transformation with its inverse will yield an identity linear transformation."]},
{"cell_type" : "code", "execution_count" : null, "metadata" : {}, "source": [
"comp = S*T\n",
"comp"],"outputs" : []},
{"cell_type" : "code", "execution_count" : null, "metadata" : {}, "source": [
"comp.is_identity()"],"outputs" : []},
{"cell_type": "markdown", "metadata": {}, "source": [
"## 2 Defining an Invertible Linear Transformation on Bases"]},
{"cell_type": "markdown", "metadata": {}, "source": [
"Now, an invertible linear transformation defined on a basis, and the resulting inverse linear transformation.  We get two \"random\" bases of $\\mathbb{Q}^7$ from nonsingular (determinant one) matrices."]},
{"cell_type" : "code", "execution_count" : null, "metadata" : {}, "source": [
"C = random_matrix(QQ, 7, 7, algorithm='unimodular', upper_bound=99)\n",
"Cbasis = C.columns()\n",
"D = random_matrix(QQ, 7, 7, algorithm='unimodular', upper_bound=99)\n",
"Dbasis = D.columns()"],"outputs" : []},
{"cell_type": "markdown", "metadata": {}, "source": [
"Vector spaces with defined user bases."]},
{"cell_type" : "code", "execution_count" : null, "metadata" : {}, "source": [
"Cspace = (QQ^7).subspace_with_basis(Cbasis)\n",
"Dspace = (QQ^7).subspace_with_basis(Dbasis)\n",
"Cspace, Dspace"],"outputs" : []},
{"cell_type": "markdown", "metadata": {}, "source": [
"The invertible linear transformation defined with images as the vectors in the codomain basis ````D````."]},
{"cell_type" : "code", "execution_count" : null, "metadata" : {}, "source": [
"T = linear_transformation(Cspace, QQ^7, Dbasis)\n",
"T"],"outputs" : []},
{"cell_type" : "code", "execution_count" : null, "metadata" : {}, "source": [
"T.is_invertible()"],"outputs" : []},
{"cell_type": "markdown", "metadata": {}, "source": [
"Now we simply \"turn around\" the definition, to make the inverse."]},
{"cell_type" : "code", "execution_count" : null, "metadata" : {}, "source": [
"S = linear_transformation(Dspace, QQ^7, Cbasis)\n",
"S"],"outputs" : []},
{"cell_type" : "code", "execution_count" : null, "metadata" : {}, "source": [
"S.is_invertible()"],"outputs" : []},
{"cell_type": "markdown", "metadata": {}, "source": [
"Composition with vector spaces using different bases does not seem to be working properly.  So we just check some random inputs to the composition."]},
{"cell_type" : "code", "execution_count" : null, "metadata" : {}, "source": [
"comp = S*T\n",
"comp.is_identity()"],"outputs" : []},
{"cell_type" : "code", "execution_count" : null, "metadata" : {}, "source": [
"v = random_vector(QQ, 7)\n",
"v, T(S(v)) == v, S(T(v)) == v"],"outputs" : []},
{"cell_type": "markdown", "metadata": {}, "source": [
"## 3 Rank and Nullity"]},
{"cell_type": "markdown", "metadata": {}, "source": [
"A general ( not invertible) linear transformation from $\\mathbb{Q}^6$ to $\\mathbb{Q}^5$."]},
{"cell_type" : "code", "execution_count" : null, "metadata" : {}, "source": [
"F = matrix(QQ, [[1, 0, 2, -1, -4, 2], [-1, -1, -4, 3, 6, -5], [0, 1, 3, -2, -4, 5],\n",
"    [0, 4, 6, -8, -4, 8], [0, 1, 2, -2, -2, 3]])\n",
"R = linear_transformation(QQ^6, QQ^5, F, side='right')\n",
"R"],"outputs" : []},
{"cell_type": "markdown", "metadata": {}, "source": [
"Rank is dimension of range (image).  Note there are not left/right variants."]},
{"cell_type" : "code", "execution_count" : null, "metadata" : {}, "source": [
"R.image()"],"outputs" : []},
{"cell_type" : "code", "execution_count" : null, "metadata" : {}, "source": [
"R.rank()"],"outputs" : []},
{"cell_type": "markdown", "metadata": {}, "source": [
"Nullity is dimension of kernel.  Note there are not left/right variants."]},
{"cell_type" : "code", "execution_count" : null, "metadata" : {}, "source": [
"R.kernel()"],"outputs" : []},
{"cell_type" : "code", "execution_count" : null, "metadata" : {}, "source": [
"R.nullity()"],"outputs" : []},
{"cell_type": "markdown", "metadata": {}, "source": [
"Note that rank and nullity sum to the dimension of the domain (which is $6$ here)."]}],
"nbformat": 4,
"nbformat_minor": 0,
"metadata": {
  "kernelspec": {
    "display_name": "SageMath",
    "language": "",
    "name": "sagemath"
  },
  "language_info": {
    "codemirror_mode": {
      "name": "ipython",
      "version": 2
    },
    "file_extension": ".py",
    "mimetype": "text/x-python",
    "name": "python",
    "nbconvert_exporter": "python",
    "pygments_lexer": "ipython2",
    "version": "2.7.8"
  },
  "name": "IVLT.ipynb"
  }
}
