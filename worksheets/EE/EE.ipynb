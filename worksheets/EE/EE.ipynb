{
"cells": [
{"cell_type": "markdown", "metadata": {}, "source": [
"$\\newcommand{\\lt}{<}\\newcommand{\\gt}{>}\\newcommand{\\amp}{&}$"]},
{"cell_type": "markdown", "metadata": {}, "source": [
"## 1 Eigenvalues and Eigenvectors"]},
{"cell_type": "markdown", "metadata": {}, "source": [
"A $6\\times 6$ matrix with \"nice\" eigenvalues."]},
{"cell_type" : "code", "execution_count" : null, "metadata" : {}, "source": [
"A = matrix(QQ, [\n",
"    [-31, -23, -16,  12, 120, -17],\n",
"    [ -3,   7,   0, -12,  60, -21],\n",
"    [-28, -14,  -9,  -4, 152, -30],\n",
"    [-36, -20, -16,  -1, 192, -32],\n",
"    [ -9,  -5,  -4,   0,  47,  -8],\n",
"    [ -1,   1,   0,  -4,  20,  -3]\n",
"    ]) \n",
"A"],"outputs" : []},
{"cell_type" : "code", "execution_count" : null, "metadata" : {}, "source": [
"p = A.characteristic_polynomial()\n",
"p"],"outputs" : []},
{"cell_type" : "code", "execution_count" : null, "metadata" : {}, "source": [
"p.factor()"],"outputs" : []},
{"cell_type": "markdown", "metadata": {}, "source": [
"Eigenvalues are the roots of the characteristic polynomial (Theorem EMRCP), which should be obvious from the factored version, including their (algebraic) multiplicities.  Of course, it can be very easy to get these in Sage."]},
{"cell_type" : "code", "execution_count" : null, "metadata" : {}, "source": [
"A.eigenvalues()"],"outputs" : []},
{"cell_type": "markdown", "metadata": {}, "source": [
"**Exercise 1** "]},
{"cell_type": "markdown", "metadata": {}, "source": [
"Create the singular matrices $A-\\lambda I_6$ for each eigenvalue (we will choose to do two with \"random\" choices for the eigenvalue).   Row-reducing these matrices will exhibit their nonzero nullity."]},
{"cell_type" : "code", "execution_count" : null, "metadata" : {}, "source": [
"(A-( )*identity_matrix(6)).rref()"],"outputs" : []},
{"cell_type" : "code", "execution_count" : null, "metadata" : {}, "source": [
"(A-( )*identity_matrix(6)).rref()"],"outputs" : []},
{"cell_type": "markdown", "metadata": {}, "source": [
"**Exercise 2** "]},
{"cell_type": "markdown", "metadata": {}, "source": [
"Examine the eigenspace for the eigenvalue $\\lambda=3$, using Sage's right kernel command and the pivot basis."]},
{"cell_type": "markdown", "metadata": {}, "source": [
"Use a basis for the eigenspace to create eigenvectors of ````A```` for the eigenvalue $\\lambda=3$ at will."]},
{"cell_type" : "code", "execution_count" : null, "metadata" : {}, "source": [
"E6 = (A-3*identity_matrix(6)).right_kernel(basis='pivot')\n",
"E6"],"outputs" : []},
{"cell_type" : "code", "execution_count" : null, "metadata" : {}, "source": [
"B = E6.basis()\n",
"B"],"outputs" : []},
{"cell_type" : "code", "execution_count" : null, "metadata" : {}, "source": [
"v = *B[0] + *B[1]\n",
"v"],"outputs" : []},
{"cell_type": "markdown", "metadata": {}, "source": [
"We can check this.  Compare $Av$ with $3v$."]},
{"cell_type" : "code", "execution_count" : null, "metadata" : {}, "source": [
"A*v"],"outputs" : []},
{"cell_type" : "code", "execution_count" : null, "metadata" : {}, "source": [
"3*v"],"outputs" : []},
{"cell_type": "markdown", "metadata": {}, "source": [
"Here's an easy check:"]},
{"cell_type" : "code", "execution_count" : null, "metadata" : {}, "source": [
"A*v - 3*v"],"outputs" : []},
{"cell_type": "markdown", "metadata": {}, "source": [
"Can you make more eigenvectors?"]},
{"cell_type": "markdown", "metadata": {}, "source": [
"## 2 Eigenspaces, Eigenmatrices"]},
{"cell_type": "markdown", "metadata": {}, "source": [
"Continuing with ````A```` from above, we can get eigen-stuff quickly from Sage, once we understand what is really happening (according to the definitions)."]},
{"cell_type": "markdown", "metadata": {}, "source": [
"As always we want the \"right\" versions of the relevant commands.  Eigenspaces are in the second parts of pairs, where the first part of each pair is the eigenvalue.  Notice that they are vector spaces (with bases, etc).  The basis vectors are Sage's version of a basis, with vectors from an echelonized matrix, typically with lots of zeros and ones in the first part of the vectors."]},
{"cell_type" : "code", "execution_count" : null, "metadata" : {}, "source": [
"A.eigenspaces_right()"],"outputs" : []},
{"cell_type": "markdown", "metadata": {}, "source": [
"The ````eigenmatrix```` commands return pair of matrices.  The first is a diagonal matrix with the eigenvalues on the diagonal.  The second is a square matrix with linearly independent eigenvectors in the columns, and the order of the eigenvectors is the same as the order of the eigenvalues.  That is, the eigenvector in column ````i```` of the second matrix is a basis vector for the eigenspace of the eigenvalue in column ````i```` of the first matrix."]},
{"cell_type" : "code", "execution_count" : null, "metadata" : {}, "source": [
"A.eigenmatrix_right()"],"outputs" : []},
{"cell_type": "markdown", "metadata": {}, "source": [
"Sometimes the dimension of an eigenspace (the geometric multiplicity) is strictly less than the number of times the eigenvalue appears as a root of the characteristic polynomial.  This is the case with ````C```` next, but was not the case with ````A```` above."]},
{"cell_type" : "code", "execution_count" : null, "metadata" : {}, "source": [
"C = matrix(QQ, [\n",
"    [128,   20,  44, -50,  236, -18, -330, -565],\n",
"    [ -23, -16,  -5,   6,  -40,  27,   62,  128],\n",
"    [ -44, -12, -15,  16,  -78,  20,  110,  207],\n",
"    [ -2,   10,  -4,   3,  -10, -23,   20,   -9],\n",
"    [ -61,   5, -25,  27, -116, -26,  153,  225],\n",
"    [ -12, -12,  -1,   2,  -20,  24,   34,   82],\n",
"    [ -23,  -3,  -8,   9,  -42,   2,   57,   99],\n",
"    [  13,   6,   3,  -4,   23, -12,  -35,  -72]\n",
"    ])\n",
"C"],"outputs" : []},
{"cell_type" : "code", "execution_count" : null, "metadata" : {}, "source": [
"C.eigenmatrix_right()"],"outputs" : []},
{"cell_type": "markdown", "metadata": {}, "source": [
"## 3 Fancy Footwork"]},
{"cell_type": "markdown", "metadata": {}, "source": [
"A totally random matrix is unlikely to have a characteristic polynomial that factors if we restrict ourseves to the rationals.  But we can find all the roots over $\\overline{Q}$, the set of all algebraic numbers.  (This is the set of all real roots of all possible polynomials with integer coefficients.)"]},
{"cell_type" : "code", "execution_count" : null, "metadata" : {}, "source": [
"D = random_matrix(QQ, 10)\n",
"D"],"outputs" : []},
{"cell_type" : "code", "execution_count" : null, "metadata" : {}, "source": [
"p = D.characteristic_polynomial()\n",
"p.factor()"],"outputs" : []},
{"cell_type" : "code", "execution_count" : null, "metadata" : {}, "source": [
"p.roots(ring=QQbar, multiplicities=False)"],"outputs" : []},
{"cell_type": "markdown", "metadata": {}, "source": [
"If we make a \"block diagonal\" matrix, then the characteristic polynomial will definitely factor some"]},
{"cell_type" : "code", "execution_count" : null, "metadata" : {}, "source": [
"E = block_diagonal_matrix( [random_matrix(QQ, 5), random_matrix(QQ, 5)])\n",
"E"],"outputs" : []},
{"cell_type" : "code", "execution_count" : null, "metadata" : {}, "source": [
"p = E.charpoly()\n",
"p.factor()"],"outputs" : []},
{"cell_type": "markdown", "metadata": {}, "source": [
"Finally a large example, illustrating how fast Sage is at making characteristic polynomials and at factoring."]},
{"cell_type" : "code", "execution_count" : null, "metadata" : {}, "source": [
"F = block_diagonal_matrix( [random_matrix(QQ, 50), random_matrix(QQ, 50)])\n",
"p = F.charpoly()\n",
"p.factor()"],"outputs" : []},
{"cell_type": "markdown", "metadata": {}, "source": [
"This is such a common operation, that Sage has a shorthand method for the **Factored Characteristic Polynomial**, namely ````.fcp()````."]},
{"cell_type" : "code", "execution_count" : null, "metadata" : {}, "source": [
"F.fcp()"],"outputs" : []},
{"cell_type": "markdown", "metadata": {}, "source": [
"Nothing short of amazing!"]},
{"cell_type": "markdown", "metadata": {}, "source": [
"## 4 Numerical Matrices"]},
{"cell_type": "markdown", "metadata": {}, "source": [
"If we use ````CDF```` (Complex Double Field) for the number system of the entries of our matrix, we get (good) approximate values for eigenvalues.  (If we are OK with the approximate nature, these routines are very, very fast.)"]},
{"cell_type" : "code", "execution_count" : null, "metadata" : {}, "source": [
"G = random_matrix(QQ, 300)\n",
"H = G.change_ring(CDF)\n",
"H.eigenvalues()"],"outputs" : []}],
"nbformat": 4,
"nbformat_minor": 0,
"metadata": {
  "kernelspec": {
    "display_name": "SageMath",
    "language": "",
    "name": "sagemath"
  },
  "language_info": {
    "codemirror_mode": {
      "name": "ipython",
      "version": 2
    },
    "file_extension": ".py",
    "mimetype": "text/x-python",
    "name": "python",
    "nbconvert_exporter": "python",
    "pygments_lexer": "ipython2",
    "version": "2.7.8"
  },
  "name": "EE.ipynb"
  }
}
