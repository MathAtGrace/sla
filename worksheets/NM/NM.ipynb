{
"cells": [
{"cell_type": "markdown", "metadata": {}, "source": [
"$\\newcommand{\\lt}{ < }\\newcommand{\\gt}{ > }\\newcommand{\\amp}{ & }$"]},
{"cell_type": "markdown", "metadata": {}, "source": [
"First, a guaranteed nonsingular $5\\times 5$ matrix, created at random."]},
{"cell_type" : "code", "execution_count" : null, "metadata" : {}, "source": [
"A = random_matrix(QQ, 5, algorithm=\"unimodular\", upper_bound=20)\n",
"A"],"outputs" : []},
{"cell_type": "markdown", "metadata": {}, "source": [
"**Exercise 1** "]},
{"cell_type": "markdown", "metadata": {}, "source": [
"Augment with the zero vector, using the matrix method ````.augment()```` and the vector constructor ````zero_vector(QQ, 5)````.  Then row-reduce to use Definition NM.  Or instead, do not augment and apply Theorem NMRRI."]},
{"cell_type" : "code", "execution_count" : null, "metadata" : {}, "source": [
""],"outputs" : []},
{"cell_type": "markdown", "metadata": {}, "source": [
"**Exercise 2** "]},
{"cell_type": "markdown", "metadata": {}, "source": [
"Build some random vectors with ````random_vector(QQ, 5)````, augment the matrix and row-reduce.  There will always be a unique solution to the linear system represented by the augmented matrix.  This is Theorem NMUS."]},
{"cell_type" : "code", "execution_count" : null, "metadata" : {}, "source": [
""],"outputs" : []},
{"cell_type": "markdown", "metadata": {}, "source": [
"Insteadcheap, easy and powerful:"]},
{"cell_type" : "code", "execution_count" : null, "metadata" : {}, "source": [
"A.is_singular()"],"outputs" : []},
{"cell_type": "markdown", "metadata": {}, "source": [
"Now, a carefully crafted singular matrix."]},
{"cell_type" : "code", "execution_count" : null, "metadata" : {}, "source": [
"B = matrix(QQ, [[ 7, -1, -12, 21, -8],\n",
"                [-3,  3,   0, -9,  6],\n",
"                [ 3,  3, -12,  9,  0],\n",
"                [ 2,  3, -10,  6,  1],\n",
"                [-2,  2,   0, -6,  4]])\n",
"B"],"outputs" : []},
{"cell_type": "markdown", "metadata": {}, "source": [
"**Exercise 3** "]},
{"cell_type": "markdown", "metadata": {}, "source": [
"Augment with the zero vector and row-reduce (Definition NM), or don't augment and row-reduce (Theorem NMRRI).]"]},
{"cell_type" : "code", "execution_count" : null, "metadata" : {}, "source": [
""],"outputs" : []},
{"cell_type": "markdown", "metadata": {}, "source": [
"**Exercise 4** "]},
{"cell_type": "markdown", "metadata": {}, "source": [
"A random vector of constants will only rarely build a consistent system when paired with ````B````.  Try it.  But this is not a theorem, see the vector ````c```` below."]},
{"cell_type" : "code", "execution_count" : null, "metadata" : {}, "source": [
""],"outputs" : []},
{"cell_type": "markdown", "metadata": {}, "source": [
"Insteadcheap, easy and powerful:"]},
{"cell_type" : "code", "execution_count" : null, "metadata" : {}, "source": [
"B.is_singular()"],"outputs" : []},
{"cell_type": "markdown", "metadata": {}, "source": [
"Two carefully crafted vectors for linear systems with ````B```` as coefficient matrix."]},
{"cell_type" : "code", "execution_count" : null, "metadata" : {}, "source": [
"c = vector(QQ, [17,-15,-3,-5,-10])\n",
"d = vector(QQ, [-3,1,-2,1,2])"],"outputs" : []},
{"cell_type": "markdown", "metadata": {}, "source": [
"**Exercise 5** "]},
{"cell_type": "markdown", "metadata": {}, "source": [
"Which of these two column vectors will create a consistent system for this singular coefficient matrix? (Stay tuned.)"]},
{"cell_type" : "code", "execution_count" : null, "metadata" : {}, "source": [
""],"outputs" : []},
{"cell_type": "markdown", "metadata": {}, "source": [
"A null space is called a **right kernel** in Sage."]},
{"cell_type" : "code", "execution_count" : null, "metadata" : {}, "source": [
"NS = B.right_kernel()\n",
"NS.list()"],"outputs" : []},
{"cell_type": "markdown", "metadata": {}, "source": [
"**Exercise 6** "]},
{"cell_type": "markdown", "metadata": {}, "source": [
"We can test membership in the null space.  Try ````u in NS```` and then repeat with ````v````."]},
{"cell_type" : "code", "execution_count" : null, "metadata" : {}, "source": [
"u = vector(QQ, [0,0,3,4,6])"],"outputs" : []},
{"cell_type" : "code", "execution_count" : null, "metadata" : {}, "source": [
""],"outputs" : []},
{"cell_type" : "code", "execution_count" : null, "metadata" : {}, "source": [
"v = vector(QQ, [1,0,0,5,-2])"],"outputs" : []},
{"cell_type" : "code", "execution_count" : null, "metadata" : {}, "source": [
""],"outputs" : []},
{"cell_type": "markdown", "metadata": {}, "source": [
"This work is Copyright 2016 by Robert A. Beezer.  It is licensed under a [Creative Commons Attribution-ShareAlike 4.0 International License](https://creativecommons.org/licenses/by-sa/4.0/)."]}],
"nbformat": 4,
"nbformat_minor": 0,
"metadata": {
  "kernelspec": {
    "display_name": "SageMath",
    "language": "",
    "name": "sagemath"
  },
  "language_info": {
    "codemirror_mode": {
      "name": "ipython",
      "version": 2
    },
    "file_extension": ".py",
    "mimetype": "text/x-python",
    "name": "python",
    "nbconvert_exporter": "python",
    "pygments_lexer": "ipython2",
    "version": "2.7.8"
  },
  "name": "NM.ipynb"
  }
}
