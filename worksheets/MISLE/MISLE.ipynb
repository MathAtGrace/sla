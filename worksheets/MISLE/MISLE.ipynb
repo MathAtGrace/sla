{
"cells": [
{"cell_type": "markdown", "metadata": {}, "source": [
"$\\newcommand{\\lt}{ < }\\newcommand{\\gt}{ > }\\newcommand{\\amp}{ & }$"]},
{"cell_type": "markdown", "metadata": {}, "source": [
"## 1 An Invertible Matrix"]},
{"cell_type": "markdown", "metadata": {}, "source": [
"An invertible $6\\times 6$ matrix."]},
{"cell_type" : "code", "execution_count" : null, "metadata" : {}, "source": [
"A = matrix(QQ, [[ 1,  2, -1, -2, -1, -6], \n",
"                [-2, -3,  1,  3,  1,  6], \n",
"                [ 2,  4, -1, -4,  0, -7], \n",
"                [ 0, -1,  1,  2, -1,  1], \n",
"                [ 2,  4, -2, -4, -1, -8], \n",
"                [ 1,  0,  0,  0, -1,  2]])\n",
"A"],"outputs" : []},
{"cell_type" : "code", "execution_count" : null, "metadata" : {}, "source": [
"Ainv = A.inverse()\n",
"Ainv"],"outputs" : []},
{"cell_type" : "code", "execution_count" : null, "metadata" : {}, "source": [
"Ainv*A"],"outputs" : []},
{"cell_type" : "code", "execution_count" : null, "metadata" : {}, "source": [
"A*Ainv"],"outputs" : []},
{"cell_type": "markdown", "metadata": {}, "source": [
"Building the inverse, now column by column, by solving systems of equations with the vector of constants equal to columns of an identity matrix."]},
{"cell_type": "markdown", "metadata": {}, "source": [
"**Exercise 1** "]},
{"cell_type": "markdown", "metadata": {}, "source": [
"Edit and re-run the next cell, using several different columns of the identity matrix.  Compare the solution vectors with the columns of the inverse of ````A```` above."]},
{"cell_type" : "code", "execution_count" : null, "metadata" : {}, "source": [
"y = vector(QQ, [1,0,0,0,0,0])\n",
"P = A.augment(y, subdivide=True)\n",
"P.rref()"],"outputs" : []},
{"cell_type": "markdown", "metadata": {}, "source": [
"Consolidating the above as the following illustrates Theorem CINM and its proof."]},
{"cell_type" : "code", "execution_count" : null, "metadata" : {}, "source": [
"B = A.augment(identity_matrix(6), subdivide=True)\n",
"B"],"outputs" : []},
{"cell_type" : "code", "execution_count" : null, "metadata" : {}, "source": [
"B.rref()"],"outputs" : []},
{"cell_type": "markdown", "metadata": {}, "source": [
"## 2 A Matrix Without an Inverse"]},
{"cell_type": "markdown", "metadata": {}, "source": [
"Now, a non-invertible $6\\times 6$ matrix."]},
{"cell_type" : "code", "execution_count" : null, "metadata" : {}, "source": [
"C = matrix(QQ, [[-1,  0,  2,  8,  8,  0], \n",
"                [-1, -1,  0,  1,  0,  3], \n",
"                [-1, -2, -1, -4, -4,  5], \n",
"                [ 1,  2,  1,  4,  5, -5], \n",
"                [-1, -1, -1, -1, -8,  4], \n",
"                [ 0,  1,  0,  3,  5, -1]])\n",
"C"],"outputs" : []},
{"cell_type" : "code", "execution_count" : null, "metadata" : {}, "source": [
"C.inverse()"],"outputs" : []},
{"cell_type": "markdown", "metadata": {}, "source": [
"**Exercise 2** "]},
{"cell_type": "markdown", "metadata": {}, "source": [
"Edit and re-run the next cell, using several different columns of the identity matrix, in attempts to construct columns of the inverse.  Just one of these failures is enough to be certain that ````A```` does not have an inverse, following the logic of Example MWIAA."]},
{"cell_type" : "code", "execution_count" : null, "metadata" : {}, "source": [
"y = vector(QQ, [1,0,0,0,0,0])\n",
"P = C.augment(y, subdivide=True)\n",
"P.rref()"],"outputs" : []},
{"cell_type": "markdown", "metadata": {}, "source": [
"It is the case that *no* column of the identity matrix leads to a consistent system (for this matrix).  We can see all six systems with a computation reminiscent of Theorem CINM."]},
{"cell_type" : "code", "execution_count" : null, "metadata" : {}, "source": [
"D = C.augment(identity_matrix(6), subdivide=True)\n",
"D"],"outputs" : []},
{"cell_type" : "code", "execution_count" : null, "metadata" : {}, "source": [
"D.rref()"],"outputs" : []},
{"cell_type": "markdown", "metadata": {}, "source": [
"**Exercise 3** "]},
{"cell_type": "markdown", "metadata": {}, "source": [
"You might struggle to find *any* vector of constants that will combine with ````C```` to be a consistent systems.  (Though there are some.  And I can think of seven that are real easy to find if you think about it a bit.)"]},
{"cell_type" : "code", "execution_count" : null, "metadata" : {}, "source": [
"w = vector(QQ, [     ])\n",
"P = C.augment(w, subdivide=True)\n",
"P.rref()"],"outputs" : []},
{"cell_type": "markdown", "metadata": {}, "source": [
"**Exercise 4** "]},
{"cell_type": "markdown", "metadata": {}, "source": [
"Do you see the fundamental difference between the matrices ````A```` and ````B````?"]},
{"cell_type" : "code", "execution_count" : null, "metadata" : {}, "source": [
""],"outputs" : []},
{"cell_type": "markdown", "metadata": {}, "source": [
"This work is Copyright 2016 by Robert A. Beezer.  It is licensed under a [Creative Commons Attribution-ShareAlike 4.0 International License](https://creativecommons.org/licenses/by-sa/4.0/)."]}],
"nbformat": 4,
"nbformat_minor": 0,
"metadata": {
  "kernelspec": {
    "display_name": "SageMath",
    "language": "",
    "name": "sagemath"
  },
  "language_info": {
    "codemirror_mode": {
      "name": "ipython",
      "version": 2
    },
    "file_extension": ".py",
    "mimetype": "text/x-python",
    "name": "python",
    "nbconvert_exporter": "python",
    "pygments_lexer": "ipython2",
    "version": "2.7.8"
  },
  "name": "MISLE.ipynb"
  }
}
