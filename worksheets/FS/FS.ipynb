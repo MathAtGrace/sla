{
"cells": [
{"cell_type": "markdown", "metadata": {}, "source": [
"$\\newcommand{\\lt}{ < }\\newcommand{\\gt}{ > }\\newcommand{\\amp}{ & }$"]},
{"cell_type": "markdown", "metadata": {}, "source": [
"## 1 Four Subsets"]},
{"cell_type": "markdown", "metadata": {}, "source": [
"````A```` is an $8\\times 10$ matrix."]},
{"cell_type" : "code", "execution_count" : null, "metadata" : {}, "source": [
"A = matrix(QQ,\n",
"[[194, -41,  -899, -396,  49, 112,  874, -355, 1139, -1221],\n",
" [269, -57, -1247, -549,  68, 155, 1212, -492, 1579, -1693],\n",
" [16,   -3,   -73,  -33,   4,  10,   72,  -30,   95,  -101],\n",
" [115, -24,  -532, -235,  29,  67,  518, -211,  676,  -724],\n",
" [ 10,   1,   -37,  -23,   2,  12,   44,  -24,   67,   -65],\n",
" [-59,  13,   275,  120, -15, -33, -266,  107, -345,   371],\n",
" [ 36,  -7,  -165,  -74,   9,  22,  162,  -67,  213,  -227],\n",
" [-20,   4,    92,   41,  -5, -12,  -90,   37, -118,  126]])\n",
"A"],"outputs" : []},
{"cell_type": "markdown", "metadata": {}, "source": [
"We get the extended echelon form, along with the natural subdivisions into four submatrices.  We unpack the four submatrices, and stack them in pairs to also get the left and right portions."]},
{"cell_type" : "code", "execution_count" : null, "metadata" : {}, "source": [
"N = A.extended_echelon_form(subdivide=True)\n",
"N"],"outputs" : []},
{"cell_type" : "code", "execution_count" : null, "metadata" : {}, "source": [
"C = N.subdivision(0,0)\n",
"Z = N.subdivision(1,0)\n",
"K = N.subdivision(0,1)\n",
"L = N.subdivision(1,1)"],"outputs" : []},
{"cell_type": "markdown", "metadata": {}, "source": [
"And build two bigger pieces."]},
{"cell_type" : "code", "execution_count" : null, "metadata" : {}, "source": [
"B = C.stack(Z)\n",
"J = K.stack(L)"],"outputs" : []},
{"cell_type" : "code", "execution_count" : null, "metadata" : {}, "source": [
"B"],"outputs" : []},
{"cell_type" : "code", "execution_count" : null, "metadata" : {}, "source": [
"J"],"outputs" : []},
{"cell_type": "markdown", "metadata": {}, "source": [
"**Exercise 1** "]},
{"cell_type": "markdown", "metadata": {}, "source": [
"Verify some of the properties of these matrices, as given in Theorem PEEF.{"cell_type": "markdown", "metadata": {}, "source": [
"1.  "Is ````J```` nonsingular?"1.  "How are ````A````, ````B````, and ````J```` related?  Observe that the matrix ````J```` effectively reproduces the net effect of a sequence of row operations that converts ````A```` to ````B````.]}"]},
{"cell_type" : "code", "execution_count" : null, "metadata" : {}, "source": [
""],"outputs" : []},
{"cell_type" : "code", "execution_count" : null, "metadata" : {}, "source": [
""],"outputs" : []},
{"cell_type": "markdown", "metadata": {}, "source": [
"Imagine the equation in the last part of the exercise, but instead replace $A$ by an augmented matrix of a linear system with a vector of constants ````b````.  The row operations that convert ````A```` to ````B````, will also act on the vector of constants.  Will the result be a pivot column (an inconsistent system) or a vector with zeros in all of the same rows as the zero rows of ````B````?  Equivalent question:  is the vector of constants outside the column space, or within the column space?"]},
{"cell_type": "markdown", "metadata": {}, "source": [
"The answer to the first question is that the zeros will occur in the proper entries to avoid a pivot column exactly if ````b```` is in the null space of the matrix ````L````.  So consistent systems come from the vectors in the null space of ````L````, and by Theorem CSCS, we know this set of vectors is also the column space."]},
{"cell_type": "markdown", "metadata": {}, "source": [
"**Exercise 2** "]},
{"cell_type": "markdown", "metadata": {}, "source": [
"Illustrate the previous discussion with a random choice of the vector ````b```` from the null space of ````L````."]},
{"cell_type" : "code", "execution_count" : null, "metadata" : {}, "source": [
"NL = L.right_kernel(basis='pivot')\n",
"NL"],"outputs" : []},
{"cell_type": "markdown", "metadata": {}, "source": [
"We create an arbitrary element of the null space of ````L```` with a linear combination."]},
{"cell_type" : "code", "execution_count" : null, "metadata" : {}, "source": [
"NLbasis = NL.basis()"],"outputs" : []},
{"cell_type" : "code", "execution_count" : null, "metadata" : {}, "source": [
"b = *NLbasis[0] + *NLbasis[1] + *NLbasis[2]\n",
"b"],"outputs" : []},
{"cell_type": "markdown", "metadata": {}, "source": [
"````b```` will create a consistent system with ````A```` as coefficient matrix."]},
{"cell_type" : "code", "execution_count" : null, "metadata" : {}, "source": [
"P = A.augment(b, subdivide=True)\n",
"P.rref()"],"outputs" : []},
{"cell_type": "markdown", "metadata": {}, "source": [
"The column space of ````A```` is equal to the null space of ````L````.  This is part of Theorem FS."]},
{"cell_type" : "code", "execution_count" : null, "metadata" : {}, "source": [
"CA = A.column_space()\n",
"CA"],"outputs" : []},
{"cell_type": "markdown", "metadata": {}, "source": [
"Since the vector ````b```` leads to a consistent system, we know it is in the column space of ````A````.  But we can check with Sage."]},
{"cell_type" : "code", "execution_count" : null, "metadata" : {}, "source": [
"b in CA"],"outputs" : []},
{"cell_type": "markdown", "metadata": {}, "source": [
"Sage relies on **echelonized bases** to represent infinite sets of vectors and to be able to test vector space equality (which seems pretty amazing at first!)."]},
{"cell_type" : "code", "execution_count" : null, "metadata" : {}, "source": [
"NL.echelonized_basis()"],"outputs" : []},
{"cell_type" : "code", "execution_count" : null, "metadata" : {}, "source": [
"CA == NL"],"outputs" : []}],
"nbformat": 4,
"nbformat_minor": 0,
"metadata": {
  "kernelspec": {
    "display_name": "SageMath",
    "language": "",
    "name": "sagemath"
  },
  "language_info": {
    "codemirror_mode": {
      "name": "ipython",
      "version": 2
    },
    "file_extension": ".py",
    "mimetype": "text/x-python",
    "name": "python",
    "nbconvert_exporter": "python",
    "pygments_lexer": "ipython2",
    "version": "2.7.8"
  },
  "name": "FS.ipynb"
  }
}
