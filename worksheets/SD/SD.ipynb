{
"cells": [
{"cell_type": "markdown", "metadata": {}, "source": [
"$\\newcommand{\\lt}{<}\\newcommand{\\gt}{>}\\newcommand{\\amp}{&}$"]},
{"cell_type": "markdown", "metadata": {}, "source": [
"## 1 Similarity"]},
{"cell_type": "markdown", "metadata": {}, "source": [
"We manufacture two matrices that are similar, and use Sage to check.  A \"unimodular\" matrix is one with determinant 1.  A unimodular matrix with integer entries will have an inverse with integer entries (that is a theorem, and Exercise PDM.M20)."]},
{"cell_type" : "code", "execution_count" : null, "metadata" : {}, "source": [
"A = random_matrix(ZZ, 10, x = -9, y = 9).change_ring(QQ)\n",
"S = random_matrix(QQ, 10, algorithm='unimodular', upper_bound=9)\n",
"B = S.inverse()*A*S\n",
"A, B"],"outputs" : []},
{"cell_type": "markdown", "metadata": {}, "source": [
"This next command might be broken, and might even just hang.  My fault.  It will be fixed, using rational canonical form, for Sage 7.6.  See [Trac ticket \\#18505](https://trac.sagemath.org/ticket/18505) for the details."]},
{"cell_type" : "code", "execution_count" : null, "metadata" : {}, "source": [
"A.is_similar(B)"],"outputs" : []},
{"cell_type": "markdown", "metadata": {}, "source": [
"## 2 Diagonalization"]},
{"cell_type": "markdown", "metadata": {}, "source": [
"These two matrices are from the earlier demo for Section EE.  First is diagonalizable, second is not.  The easiest way to see the difference is with the ````eigenmatrix```` commands."]},
{"cell_type": "markdown", "metadata": {}, "source": [
"**Exercise 1** "]},
{"cell_type": "markdown", "metadata": {}, "source": [
"Diagonalize the matrix $A$."]},
{"cell_type" : "code", "execution_count" : null, "metadata" : {}, "source": [
"A = matrix(QQ, [\n",
"    [-31, -23, -16,  12, 120, -17],\n",
"    [ -3,   7,   0, -12,  60, -21],\n",
"    [-28, -14,  -9,  -4, 152, -30],\n",
"    [-36, -20, -16,  -1, 192, -32],\n",
"    [ -9,  -5,  -4,   0,  47,  -8],\n",
"    [ -1,   1,   0,  -4,  20,  -3]\n",
"A"],"outputs" : []},
{"cell_type": "markdown", "metadata": {}, "source": [
"````S````, the matrix whose columns are eigenvectors, will \"diagonalize\" ````A````."]},
{"cell_type" : "code", "execution_count" : null, "metadata" : {}, "source": [
"D, S = A.eigenmatrix_right()\n",
"D, S"],"outputs" : []},
{"cell_type" : "code", "execution_count" : null, "metadata" : {}, "source": [
"S.inverse()*A*S == D"],"outputs" : []},
{"cell_type": "markdown", "metadata": {}, "source": [
"Here is an equivalent formulation."]},
{"cell_type" : "code", "execution_count" : null, "metadata" : {}, "source": [
"A*S == S*D"],"outputs" : []},
{"cell_type": "markdown", "metadata": {}, "source": [
"**Exercise 2** "]},
{"cell_type": "markdown", "metadata": {}, "source": [
"Now, in contrast, a matrix that is not diagonalizable.  Try to diagonalize the matrix $C$."]},
{"cell_type" : "code", "execution_count" : null, "metadata" : {}, "source": [
"C = matrix(QQ, [\n",
"    [128,   20,  44, -50,  236, -18, -330, -565],\n",
"    [ -23, -16,  -5,   6,  -40,  27,   62,  128],\n",
"    [ -44, -12, -15,  16,  -78,  20,  110,  207],\n",
"    [ -2,   10,  -4,   3,  -10, -23,   20,   -9],\n",
"    [ -61,   5, -25,  27, -116, -26,  153,  225],\n",
"    [ -12, -12,  -1,   2,  -20,  24,   34,   82],\n",
"    [ -23,  -3,  -8,   9,  -42,   2,   57,   99],\n",
"    [  13,   6,   3,  -4,   23, -12,  -35,  -72]\n",
"    ])\n",
"C"],"outputs" : []},
{"cell_type" : "code", "execution_count" : null, "metadata" : {}, "source": [
"D, S = C.eigenmatrix_right()\n",
"D, S"],"outputs" : []},
{"cell_type": "markdown", "metadata": {}, "source": [
"The zero columns in ````S```` tell us that at least one eigenvalue has a geometric multiplicity strictly less than the algebraic multiplicity of the eigenvalue.  So by Theorem DMFE the matrix ````C```` is not diagonalizable."]},
{"cell_type": "markdown", "metadata": {}, "source": [
"A second consequence of the zero columns of ````S```` is that it will not be an invertible matrix.  But the output from Sage still obeys a fundamental relationship."]},
{"cell_type" : "code", "execution_count" : null, "metadata" : {}, "source": [
"C*S == S*D"],"outputs" : []},
{"cell_type": "markdown", "metadata": {}, "source": [
"Perhaps simpler is the built-in function ````.is_diagonalizable()````."]},
{"cell_type" : "code", "execution_count" : null, "metadata" : {}, "source": [
"A.is_diagonalizable()"],"outputs" : []},
{"cell_type" : "code", "execution_count" : null, "metadata" : {}, "source": [
"C.is_diagonalizable()"],"outputs" : []},
{"cell_type": "markdown", "metadata": {}, "source": [
"## 3 Nearly Diagonalizable"]},
{"cell_type": "markdown", "metadata": {}, "source": [
"A matrix that is not diagonalizable will always be similar to a matrix that is *almost* diagonalizable.  The \"nearly diagonal\" matrix is called the **Jordan canonical form** of the matrix."]},
{"cell_type": "markdown", "metadata": {}, "source": [
"**Exercise 3** "]},
{"cell_type": "markdown", "metadata": {}, "source": [
"While beyond the scope of this course, use Sage to compute the Jordan canonical form for the matrix ````C````.  Notice the eigenvalues of ````C```` on the diagonal and the 1's on the **super-diagonal**."]},
{"cell_type": "markdown", "metadata": {}, "source": [
"Peculiarly, the similarity matrix need not be computed to get the form, and it is a significant computational expense.  So we ask for it explicitly."]},
{"cell_type" : "code", "execution_count" : null, "metadata" : {}, "source": [
"J, T = C.jordan_form(transformation=True)\n",
"J, T"],"outputs" : []},
{"cell_type": "markdown", "metadata": {}, "source": [
"The transformation matrix, ````T````, is invertible and will \"almost diagonalize\" ````C````."]},
{"cell_type" : "code", "execution_count" : null, "metadata" : {}, "source": [
"T.inverse()*C*T == J"],"outputs" : []},
{"cell_type": "markdown", "metadata": {}, "source": [
"**Exercise 4** "]},
{"cell_type": "markdown", "metadata": {}, "source": [
"**Rational canonical form** is another interesting version of this idea, try ````.rational_form()```` on ````C````.  And if you do, then execute the following two cells and see if the coefficients look familiar.  (Learn more about **companion matrices** if this makes you curious."]},
{"cell_type" : "code", "execution_count" : null, "metadata" : {}, "source": [
"C.rational_form()"],"outputs" : []},
{"cell_type" : "code", "execution_count" : null, "metadata" : {}, "source": [
"C.fcp()"],"outputs" : []},
{"cell_type" : "code", "execution_count" : null, "metadata" : {}, "source": [
"((x-1)^3*(x+2)^3).expand()"],"outputs" : []}],
"nbformat": 4,
"nbformat_minor": 0,
"metadata": {
  "kernelspec": {
    "display_name": "SageMath",
    "language": "",
    "name": "sagemath"
  },
  "language_info": {
    "codemirror_mode": {
      "name": "ipython",
      "version": 2
    },
    "file_extension": ".py",
    "mimetype": "text/x-python",
    "name": "python",
    "nbconvert_exporter": "python",
    "pygments_lexer": "ipython2",
    "version": "2.7.8"
  },
  "name": "SD.ipynb"
  }
}
