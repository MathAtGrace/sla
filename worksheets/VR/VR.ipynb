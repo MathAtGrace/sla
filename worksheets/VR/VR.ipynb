{
"cells": [
{"cell_type": "markdown", "metadata": {}, "source": [
"$\\newcommand{\\lt}{<}\\newcommand{\\gt}{>}\\newcommand{\\amp}{&}$"]},
{"cell_type": "markdown", "metadata": {}, "source": [
"## 1 Vector Representations"]},
{"cell_type": "markdown", "metadata": {}, "source": [
"It is easy to form vector representations of vectors in $\\mathbb{C}^n$."]},
{"cell_type": "markdown", "metadata": {}, "source": [
"We get a nonstandard basis quickly from the columns of a nonsingular matrix.  The keyword ````algorithm='unimodular'```` requests a matrix with determinant $1$."]},
{"cell_type" : "code", "execution_count" : null, "metadata" : {}, "source": [
"n = 6\n",
"A = random_matrix(QQ, n, algorithm='unimodular', upper_bound=9)\n",
"A"],"outputs" : []},
{"cell_type": "markdown", "metadata": {}, "source": [
"The columns of ````A```` become the \"user basis\" of a vector space."]},
{"cell_type" : "code", "execution_count" : null, "metadata" : {}, "source": [
"B = A.columns()\n",
"V = (QQ^n).subspace_with_basis(B)\n",
"V"],"outputs" : []},
{"cell_type" : "code", "execution_count" : null, "metadata" : {}, "source": [
"u = random_vector(QQ, n)\n",
"u"],"outputs" : []},
{"cell_type": "markdown", "metadata": {}, "source": [
"Now, we get values of the invertible linear transformation $\\rho_B$ with the Sage method ````.coordinate_vector()```` method of the vector space."]},
{"cell_type" : "code", "execution_count" : null, "metadata" : {}, "source": [
"c = V.coordinate_vector(u)\n",
"c"],"outputs" : []},
{"cell_type": "markdown", "metadata": {}, "source": [
"The inverse linear transformation is also available as the ````.linear_combination_of_basis()```` method of the vector space."]},
{"cell_type" : "code", "execution_count" : null, "metadata" : {}, "source": [
"round_trip = V.linear_combination_of_basis(c)\n",
"round_trip"],"outputs" : []},
{"cell_type": "markdown", "metadata": {}, "source": [
"And the automated check:"]},
{"cell_type" : "code", "execution_count" : null, "metadata" : {}, "source": [
"u == round_trip"],"outputs" : []},
{"cell_type": "markdown", "metadata": {}, "source": [
"Notice that this is something we could do \"by hand\" with just reduced row-echelon form. The coordinitization of ````u```` relative to the basis ````B```` is just a (unique) solution to a linear system."]},
{"cell_type" : "code", "execution_count" : null, "metadata" : {}, "source": [
"aug = column_matrix(B + [u])\n",
"aug.rref()"],"outputs" : []},
{"cell_type": "markdown", "metadata": {}, "source": [
"The following stanza will always return ````True```` as we \"coordinatize\" and then use the coordinates to form a linear combination of the basis."]},
{"cell_type" : "code", "execution_count" : null, "metadata" : {}, "source": [
"w = random_vector(QQ, n)\n",
"x = V.coordinate_vector(w)\n",
"y = V.linear_combination_of_basis(x)\n",
"y == w"],"outputs" : []},
{"cell_type": "markdown", "metadata": {}, "source": [
"## 2 Abstract Vector Spaces"]},
{"cell_type": "markdown", "metadata": {}, "source": [
"Sage does not implement abstract vector spaces.  It presumes we have \"nice\" standard bases available and can apply an intermediate coordinatization ourselves."]},
{"cell_type": "markdown", "metadata": {}, "source": [
"**Exercise 1** "]},
{"cell_type": "markdown", "metadata": {}, "source": [
"In $P_3$, the vector space of polynomials with degree at most $3$, find the vector representation of $p = \\left(x^{3} + x^{2} + \\frac{1}{2} \\, x - \\frac{33}{14}\\right)$ relative to the basis for $P_3$: \\begin{align*}\nB = \\{&\n                                    5x^{3} + 2x^{2} + x + 1,\\,\n                                   -8x^{3} - 3x^{2} - x - 2,\\\\\n& 7x^{3} + 4x^{2} + x + 2,\\,\n                                   -7x^{3} + 3x^{2} + x - 2\\}\\end{align*}."]},
{"cell_type": "markdown", "metadata": {}, "source": [
"Hint:  Coordinatize with respect to the basis $\\left\\{1, x, x^2, x^3\\right\\}$."]},
{"cell_type" : "code", "execution_count" : null, "metadata" : {}, "source": [
"A = matrix(QQ, [[1, -2, 2, -2], [1, -1, 1, 1], [2, -3, 4, 3], [5, -8, 7, -7]])\n",
"B = A.columns()\n",
"B"],"outputs" : []},
{"cell_type": "markdown", "metadata": {}, "source": [
"````B```` is a basis, since ````A```` is nonsingular."]},
{"cell_type" : "code", "execution_count" : null, "metadata" : {}, "source": [
"A.is_singular()"],"outputs" : []},
{"cell_type": "markdown", "metadata": {}, "source": [
"Now coordinatize ````p````."]},
{"cell_type" : "code", "execution_count" : null, "metadata" : {}, "source": [
"p = vector(QQ, [-33/14, 1/2, 1, 1])\n",
"p"],"outputs" : []},
{"cell_type": "markdown", "metadata": {}, "source": [
"We'll get a coordinatization old-style."]},
{"cell_type" : "code", "execution_count" : null, "metadata" : {}, "source": [
"aug = column_matrix(B + [p])\n",
"r = aug.rref()\n",
"r"],"outputs" : []},
{"cell_type": "markdown", "metadata": {}, "source": [
"Let's check to see if this is right and we can recover ````p````."]},
{"cell_type" : "code", "execution_count" : null, "metadata" : {}, "source": [
"soln = r.column(4)\n",
"round_trip = sum([soln[i]*B[i] for i in range(4)])\n",
"round_trip, round_trip == p"],"outputs" : []}],
"nbformat": 4,
"nbformat_minor": 0,
"metadata": {
  "kernelspec": {
    "display_name": "SageMath",
    "language": "",
    "name": "sagemath"
  },
  "language_info": {
    "codemirror_mode": {
      "name": "ipython",
      "version": 2
    },
    "file_extension": ".py",
    "mimetype": "text/x-python",
    "name": "python",
    "nbconvert_exporter": "python",
    "pygments_lexer": "ipython2",
    "version": "2.7.8"
  },
  "name": "VR.ipynb"
  }
}
