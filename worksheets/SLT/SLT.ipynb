{
"cells": [
{"cell_type": "markdown", "metadata": {}, "source": [
"$\\newcommand{\\lt}{<}\\newcommand{\\gt}{>}\\newcommand{\\amp}{&}$"]},
{"cell_type": "markdown", "metadata": {}, "source": [
"## 1 Surjective Linear Transformations"]},
{"cell_type": "markdown", "metadata": {}, "source": [
"Two carefully-crafted linear transformations: ````T```` is surjective, ````S```` is not."]},
{"cell_type" : "code", "execution_count" : null, "metadata" : {}, "source": [
"A = matrix(QQ, [[2, 2, 5, -2], [2, 3, 1, -4], [-3, -4, -4, 5]])\n",
"T = linear_transformation(QQ^4, QQ^3, A, side='right')"],"outputs" : []},
{"cell_type" : "code", "execution_count" : null, "metadata" : {}, "source": [
"T.is_surjective()"],"outputs" : []},
{"cell_type": "markdown", "metadata": {}, "source": [
"The range is known in Sage as the \"image.\"  For a surjective linear transformation, it will be the entire codomain.  Note that the image is a vector space."]},
{"cell_type" : "code", "execution_count" : null, "metadata" : {}, "source": [
"T.image()"],"outputs" : []},
{"cell_type" : "code", "execution_count" : null, "metadata" : {}, "source": [
"T.image() == T.codomain()"],"outputs" : []},
{"cell_type" : "code", "execution_count" : null, "metadata" : {}, "source": [
"B = matrix(QQ, [[1, -2, 0, 3], [3, -5, 1, 7], [-1, 4, 2, -7]])\n",
"S = linear_transformation(QQ^4, QQ^3, B, side='right')"],"outputs" : []},
{"cell_type" : "code", "execution_count" : null, "metadata" : {}, "source": [
"S.is_surjective()"],"outputs" : []},
{"cell_type" : "code", "execution_count" : null, "metadata" : {}, "source": [
"IM = S.image()\n",
"IM"],"outputs" : []},
{"cell_type" : "code", "execution_count" : null, "metadata" : {}, "source": [
"IM == S.codomain()"],"outputs" : []},
{"cell_type": "markdown", "metadata": {}, "source": [
"## 2 Pre-Images"]},
{"cell_type": "markdown", "metadata": {}, "source": [
"**Exercise 1** "]},
{"cell_type": "markdown", "metadata": {}, "source": [
"We can create inputs associated with any output.  First, we make an arbitrary output, but make sure it really is an output, as a linear combination of a basis of the image (see basis above).  We print the two vectors in the opposite of what we would consider the \"normal\" order."]},
{"cell_type" : "code", "execution_count" : null, "metadata" : {}, "source": [
"bas = IM.basis()\n",
"out = ()*bas[0] + ()*bas[1]\n",
"inp = S.preimage_representative(out)\n",
"out, inp"],"outputs" : []},
{"cell_type": "markdown", "metadata": {}, "source": [
"A check on our work."]},
{"cell_type" : "code", "execution_count" : null, "metadata" : {}, "source": [
"S(inp)"],"outputs" : []},
{"cell_type": "markdown", "metadata": {}, "source": [
"**Exercise 2** "]},
{"cell_type": "markdown", "metadata": {}, "source": [
"We can make other inputs, using the kernel."]},
{"cell_type": "markdown", "metadata": {}, "source": [
"Any value of ````new_inp```` is in the preimage of ````out````, and every element of the preimage can be built this way.  Notice the role the kernel plays, much like in the worksheet about injective linear transformations."]},
{"cell_type" : "code", "execution_count" : null, "metadata" : {}, "source": [
"K = S.kernel()\n",
"K"],"outputs" : []},
{"cell_type" : "code", "execution_count" : null, "metadata" : {}, "source": [
"z = K.random_element()\n",
"new_inp = inp + z\n",
"new_inp, S(new_inp)"],"outputs" : []},
{"cell_type": "markdown", "metadata": {}, "source": [
"**Exercise 3** "]},
{"cell_type": "markdown", "metadata": {}, "source": [
"Elements outside the range (image) will have empty preimages.  We mildly \"wreck\" an element of the range."]},
{"cell_type": "markdown", "metadata": {}, "source": [
"With two initial entries determined by the zeros and ones in the basis vectors, the third entry must be determined, so we can \"twiddle\" it just a bit to obtain a vector of the codomain that lies outside the range.  We will ask Sage for a pre-image representative anyway and see what happens."]},
{"cell_type" : "code", "execution_count" : null, "metadata" : {}, "source": [
"in_range = ()*bas[0] + ()*bas[1]\n",
"in_range"],"outputs" : []},
{"cell_type" : "code", "execution_count" : null, "metadata" : {}, "source": [
"outside_range = vector(QQ, [ , , ])\n",
"S.preimage_representative(outside_range)"],"outputs" : []}],
"nbformat": 4,
"nbformat_minor": 0,
"metadata": {
  "kernelspec": {
    "display_name": "SageMath",
    "language": "",
    "name": "sagemath"
  },
  "language_info": {
    "codemirror_mode": {
      "name": "ipython",
      "version": 2
    },
    "file_extension": ".py",
    "mimetype": "text/x-python",
    "name": "python",
    "nbconvert_exporter": "python",
    "pygments_lexer": "ipython2",
    "version": "2.7.8"
  },
  "name": "SLT.ipynb"
  }
}
