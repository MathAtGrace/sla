{
"cells": [
{"cell_type": "markdown", "metadata": {}, "source": [
"$\\newcommand{\\lt}{ < }\\newcommand{\\gt}{ > }\\newcommand{\\amp}{ & }$"]},
{"cell_type": "markdown", "metadata": {}, "source": [
"## 1 Vector Spaces"]},
{"cell_type": "markdown", "metadata": {}, "source": [
"It is easy in Sage to make a reasonable facsimile of $\\mathbf{C}^n$.  We just restrict our attention to rational entries rather than complex entries.  This vector space contains vectors with 4 slots, each filled with a rational number."]},
{"cell_type" : "code", "execution_count" : null, "metadata" : {}, "source": [
"V = QQ^4\n",
"V"],"outputs" : []},
{"cell_type": "markdown", "metadata": {}, "source": [
"**Exercise 1** "]},
{"cell_type": "markdown", "metadata": {}, "source": [
"We can test membership using the word/command ````in````. Try vectors with different numers of slots, and perhaps include the complex number ````2 + 3*I```` as an entry."]},
{"cell_type" : "code", "execution_count" : null, "metadata" : {}, "source": [
""],"outputs" : []},
{"cell_type": "markdown", "metadata": {}, "source": [
"## 2 Vector Form of Solutions to Homogeneous Systems"]},
{"cell_type": "markdown", "metadata": {}, "source": [
"These are the coefficient matrix and vector of constants from yesterday's big system that led to a colored matrix in reduced row-echelon form."]},
{"cell_type": "markdown", "metadata": {}, "source": [
"The ````.right_kernel()```` method will give the vectors of the vector form of the solutions to a homogeneous system when used with the ````basis='pivot'```` option."]},
{"cell_type" : "code", "execution_count" : null, "metadata" : {}, "source": [
"A = matrix(QQ, [[  1,  2, 12,   1,  13,  5,  2],\n",
"                [ -2, -3, -21,  0, -13,  2, -5],\n",
"                [  1,  3,  15,  4,  28, 25,  0],\n",
"                [ -2, -3, -21, -1, -15, -6, -3],\n",
"                [  1,  1,   9,  1,   4,  9,  1]])\n",
"b = vector(QQ, [8, -15, 7, -10, 3])"],"outputs" : []},
{"cell_type" : "code", "execution_count" : null, "metadata" : {}, "source": [
"A.right_kernel(basis='pivot')"],"outputs" : []},
{"cell_type": "markdown", "metadata": {}, "source": [
"Rows of the \"basis matrix\" are vectors in yesterday's linear combination (with scalars $x_3$, $x_5$, $x_6$).  This is a spanning set for the null space of the matrix $A$.  See Theorem VFSLS and Theorem SSNS."]},
{"cell_type": "markdown", "metadata": {}, "source": [
"Theorem PSPHS can explain how to use a single solution to the non-homogeneous system and the spanning set of the null space of the coefficient matrix to arrive at all solutions to the system.  Here is a single solution to the system."]},
{"cell_type" : "code", "execution_count" : null, "metadata" : {}, "source": [
"A.solve_right(b)"],"outputs" : []},
{"cell_type": "markdown", "metadata": {}, "source": [
"Notice that this vector is the solution when we set each free variable to zero, which is the \"other\" vector from yesterday that is not part of the linear combination."]},
{"cell_type": "markdown", "metadata": {}, "source": [
"## 3 Spanning Sets"]},
{"cell_type": "markdown", "metadata": {}, "source": [
"Example ABS from FCLA."]},
{"cell_type" : "code", "execution_count" : null, "metadata" : {}, "source": [
"x1 = vector(QQ,[1,1,3,1])\n",
"x2 = vector(QQ,[2,1,2,-1])\n",
"x3 = vector(QQ,[7,3,5,-5])\n",
"x4 = vector(QQ,[1,1,-1,2])\n",
"x5 = vector(QQ,[-1,0,9,0])\n",
"W = span([x1, x2, x3, x4, x5])\n",
"W"],"outputs" : []},
{"cell_type": "markdown", "metadata": {}, "source": [
"**Exercise 2** "]},
{"cell_type": "markdown", "metadata": {}, "source": [
"Make a \"random\" linear combination of the five vectors and test for membership (which will be trivially true, repeatedly).  Remember to use the ````*```` operator for vector scalar multiplication."]},
{"cell_type" : "code", "execution_count" : null, "metadata" : {}, "source": [
""],"outputs" : []},
{"cell_type": "markdown", "metadata": {}, "source": [
"But not any old vector is in $W$."]},
{"cell_type" : "code", "execution_count" : null, "metadata" : {}, "source": [
"v = vector(QQ, [1, 1, -3, 2])\n",
"v in W"],"outputs" : []},
{"cell_type": "markdown", "metadata": {}, "source": [
"It should make sense that arbitrary linear combinations are in the span.  How did we manufacture a vector *not* in the span?  Stay tuned."]},
{"cell_type": "markdown", "metadata": {}, "source": [
"This work is Copyright 2016 by Robert A. Beezer.  It is licensed under a [Creative Commons Attribution-ShareAlike 4.0 International License](https://creativecommons.org/licenses/by-sa/4.0/)."]}],
"nbformat": 4,
"nbformat_minor": 0,
"metadata": {
  "kernelspec": {
    "display_name": "SageMath",
    "language": "",
    "name": "sagemath"
  },
  "language_info": {
    "codemirror_mode": {
      "name": "ipython",
      "version": 2
    },
    "file_extension": ".py",
    "mimetype": "text/x-python",
    "name": "python",
    "nbconvert_exporter": "python",
    "pygments_lexer": "ipython2",
    "version": "2.7.8"
  },
  "name": "SS.ipynb"
  }
}
