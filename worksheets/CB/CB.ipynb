{
"cells": [
{"cell_type": "markdown", "metadata": {}, "source": [
"$\\newcommand{\\lt}{<}\\newcommand{\\gt}{>}\\newcommand{\\amp}{&}$"]},
{"cell_type": "markdown", "metadata": {}, "source": [
"## 1 A Linear Transformation, Two Vector Spaces, Four Bases"]},
{"cell_type": "markdown", "metadata": {}, "source": [
"In this section we deﬁne a linear transformation from $\\mathbb{C}^{3}$ to $\\mathbb{C}^{7}$ using a randomly selected matrix. The deﬁnition is a $7\\times 3$ matrix of rank $3$ that we will use to multiply input vectors with a matrix-vector product. It is not important if the linear transformation is injective and/or surjective."]},
{"cell_type": "markdown", "metadata": {}, "source": [
"We will build two representations, using a total of four bases — two for the domain and two for the codomain."]},
{"cell_type" : "code", "execution_count" : null, "metadata" : {}, "source": [
"m, n = 7, 3\n",
"A = random_matrix(QQ, m, n, algorithm='echelonizable', rank=n, upper_bound=9)\n",
"A"],"outputs" : []},
{"cell_type" : "code", "execution_count" : null, "metadata" : {}, "source": [
"T = linear_transformation(A, side='right')\n",
"T"],"outputs" : []},
{"cell_type": "markdown", "metadata": {}, "source": [
"The four bases, associated with the two vector spaces."]},
{"cell_type" : "code", "execution_count" : null, "metadata" : {}, "source": [
"D1mat = random_matrix(QQ, n, n, algorithm='unimodular', upper_bound=9)\n",
"D1 = D1mat.columns()\n",
"D1\n",
"VD1 = (QQ^n).subspace_with_basis(D1)\n",
"#\n",
"D2mat = random_matrix(QQ, n, n, algorithm='unimodular', upper_bound=9)\n",
"D2 = D2mat.columns()\n",
"D2\n",
"VD2 = (QQ^n).subspace_with_basis(D2)\n",
"#\n",
"C1mat = random_matrix(QQ, m, m, algorithm='unimodular', upper_bound=9)\n",
"C1 = C1mat.columns()\n",
"C1\n",
"VC1 = (QQ^m).subspace_with_basis(C1)\n",
"#\n",
"C2mat = random_matrix(QQ, m, m, algorithm='unimodular', upper_bound=9)\n",
"C2 = C2mat.columns()\n",
"C2\n",
"VC2 = (QQ^m).subspace_with_basis(C2)"],"outputs" : []},
{"cell_type": "markdown", "metadata": {}, "source": [
"**Exercise 1** "]},
{"cell_type": "markdown", "metadata": {}, "source": [
"Check out a few of these bases by just asking Sage to display them."]},
{"cell_type" : "code", "execution_count" : null, "metadata" : {}, "source": [
"D1"],"outputs" : []},
{"cell_type": "markdown", "metadata": {}, "source": [
"Now we build two *different* representations."]},
{"cell_type" : "code", "execution_count" : null, "metadata" : {}, "source": [
"rep1 = T.restrict_domain(VD1).restrict_codomain(VC1)\n",
"rep1.matrix(side='right')"],"outputs" : []},
{"cell_type" : "code", "execution_count" : null, "metadata" : {}, "source": [
"rep2 = T.restrict_domain(VD2).restrict_codomain(VC2)\n",
"rep2.matrix(side='right')"],"outputs" : []},
{"cell_type": "markdown", "metadata": {}, "source": [
"## 2 Change of Basis Matrices"]},
{"cell_type": "markdown", "metadata": {}, "source": [
"A natural way to build a change-of-basis matrix in Sage is to adjust the bases for domain and range of the identity linear transformation by supplying an identity matrix to the linear tansformation constructor."]},
{"cell_type" : "code", "execution_count" : null, "metadata" : {}, "source": [
"identity_domain = linear_transformation(QQ^n, QQ^n, identity_matrix(n))\n",
"identity_domain"],"outputs" : []},
{"cell_type" : "code", "execution_count" : null, "metadata" : {}, "source": [
"CBdom = identity_domain.restrict_domain(VD1).restrict_codomain(VD2)\n",
"CBdom_mat = CBdom.matrix(side='right')\n",
"CBdom_mat"],"outputs" : []},
{"cell_type": "markdown", "metadata": {}, "source": [
"This matrix should convert between the two bases for the domain.  Here's a check of Theorem CB."]},
{"cell_type" : "code", "execution_count" : null, "metadata" : {}, "source": [
"u = random_vector(QQ, n)\n",
"u1 = VD1.coordinate_vector(u)\n",
"u2 = VD2.coordinate_vector(u)\n",
"u, u1, u2, u2 == CBdom_mat*u1"],"outputs" : []},
{"cell_type": "markdown", "metadata": {}, "source": [
"Same drill in the codomain."]},
{"cell_type" : "code", "execution_count" : null, "metadata" : {}, "source": [
"identity_codomain = linear_transformation(QQ^m, QQ^m, identity_matrix(m))\n",
"identity_codomain"],"outputs" : []},
{"cell_type" : "code", "execution_count" : null, "metadata" : {}, "source": [
"CBcodom = identity_codomain.restrict_domain(VC1).restrict_codomain(VC2)\n",
"CBcodom_mat = CBcodom.matrix(side='right')\n",
"CBcodom_mat"],"outputs" : []},
{"cell_type": "markdown", "metadata": {}, "source": [
"And here is the check on Theorem MRCB.  Convert from domain basis 1 to domain basis 2, use the second representation, then convert back from codomain basis 2 to codomain basis 1 and get as a result the representation relative to the first bases."]},
{"cell_type" : "code", "execution_count" : null, "metadata" : {}, "source": [
"rep1.matrix(side='right') == CBcodom_mat.inverse()*rep2.matrix(side='right')*CBdom_mat"],"outputs" : []},
{"cell_type": "markdown", "metadata": {}, "source": [
"## 3 A Diagonal Representation"]},
{"cell_type": "markdown", "metadata": {}, "source": [
"We specialize to linear transformations with equal domain and codomain."]},
{"cell_type": "markdown", "metadata": {}, "source": [
"First a matrix representation using a square matrix."]},
{"cell_type" : "code", "execution_count" : null, "metadata" : {}, "source": [
"A = matrix(QQ,\n",
"[[ -2,   3, -20,  15,   1,  30,  -5,   17],\n",
" [-27, -38, -30, -50, 268, -73, 210, -273],\n",
" [-12, -24,  -7, -30, 142, -48, 100, -160],\n",
" [ -3, -15,  35, -32,  35, -57,  20,  -71],\n",
" [ -9,  -9, -10, -10,  65, -11,  50,  -59],\n",
" [ -3,  -6, -20,   0,  58,   1,  40,  -55],\n",
" [  3,   0,   5,   0, -10,  -3, -12,    1],\n",
" [  0,   3,   0,   5, -19,  10, -15,   25]])\n",
"T = linear_transformation(A, side='right')\n",
"T"],"outputs" : []},
{"cell_type": "markdown", "metadata": {}, "source": [
"A basis of $\\mathbb{C}^8$. And a vector space with this basis."]},
{"cell_type" : "code", "execution_count" : null, "metadata" : {}, "source": [
"v1 = vector(QQ, [-4,  -6, -1,  7, -2, -4, 1, 0])\n",
"v2 = vector(QQ, [ 3, -10, -6, -6, -2,  0, 0, 1])\n",
"v3 = vector(QQ, [ 0,  -9, -4, -1, -3, -1, 1, 0])\n",
"v4 = vector(QQ, [ 1, -12, -8, -5, -3, -2, 0, 1])\n",
"v5 = vector(QQ, [ 0,   3,  2,  2,  1,  0, 0, 0])\n",
"v6 = vector(QQ, [ 1,   0,  0, -2,  0,  1, 0, 0])\n",
"v7 = vector(QQ, [ 0,   0,  2,  3,  0,  0, 1, 0])\n",
"v8 = vector(QQ, [ 3,  -4, -2, -3,  0,  0, 0, 1])\n",
"B = [v1, v2, v3, v4, v5, v6, v7, v8]\n",
"V = (QQ^8).subspace_with_basis(B)"],"outputs" : []},
{"cell_type" : "code", "execution_count" : null, "metadata" : {}, "source": [
"S = T.restrict_domain(V).restrict_codomain(V)\n",
"S.matrix(side='right')"],"outputs" : []},
{"cell_type": "markdown", "metadata": {}, "source": [
"That's a nice representation!  Where did the basis come from?"]},
{"cell_type" : "code", "execution_count" : null, "metadata" : {}, "source": [
"A.eigenvalues()"],"outputs" : []},
{"cell_type": "markdown", "metadata": {}, "source": [
"Some (right) eigenvectors."]},
{"cell_type" : "code", "execution_count" : null, "metadata" : {}, "source": [
"(A - 3).right_kernel(basis='pivot').basis()"],"outputs" : []},
{"cell_type": "markdown", "metadata": {}, "source": [
"Eigenvalues are a property of the linear transformation."]},
{"cell_type" : "code", "execution_count" : null, "metadata" : {}, "source": [
"T.eigenvalues()"],"outputs" : []},
{"cell_type": "markdown", "metadata": {}, "source": [
"Bases for the eigenspaces depend on the representation, but the actual eigenvectors are also a property of the linear transformation."]},
{"cell_type" : "code", "execution_count" : null, "metadata" : {}, "source": [
"S.eigenvectors()"],"outputs" : []},
{"cell_type" : "code", "execution_count" : null, "metadata" : {}, "source": [
"T.eigenvectors()"],"outputs" : []},
{"cell_type": "markdown", "metadata": {}, "source": [
"We could do the same thing, but in the style of Section SD, using a change-of-basis matrix."]},
{"cell_type" : "code", "execution_count" : null, "metadata" : {}, "source": [
"identity = linear_transformation(QQ^8, QQ^8, identity_matrix(8))\n",
"identity"],"outputs" : []},
{"cell_type" : "code", "execution_count" : null, "metadata" : {}, "source": [
"CB = identity.restrict_domain(V).restrict_codomain(QQ^8)\n",
"CB"],"outputs" : []},
{"cell_type": "markdown", "metadata": {}, "source": [
"Here is similarity, in disguise."]},
{"cell_type" : "code", "execution_count" : null, "metadata" : {}, "source": [
"CBmat = CB.matrix(side='right')\n",
"CBmat.inverse()*T.matrix(side='right')*CBmat"],"outputs" : []}],
"nbformat": 4,
"nbformat_minor": 0,
"metadata": {
  "kernelspec": {
    "display_name": "SageMath",
    "language": "",
    "name": "sagemath"
  },
  "language_info": {
    "codemirror_mode": {
      "name": "ipython",
      "version": 2
    },
    "file_extension": ".py",
    "mimetype": "text/x-python",
    "name": "python",
    "nbconvert_exporter": "python",
    "pygments_lexer": "ipython2",
    "version": "2.7.8"
  },
  "name": "CB.ipynb"
  }
}
