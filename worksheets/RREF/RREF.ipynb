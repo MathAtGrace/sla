{
"cells": [
{"cell_type": "markdown", "metadata": {}, "source": [
"$\\newcommand{\\lt}{ < }\\newcommand{\\gt}{ > }\\newcommand{\\amp}{ & }$"]},
{"cell_type": "markdown", "metadata": {}, "source": [
"To specify a matrix, first specify that your entries are rational numbers, ````QQ```` in Sage parlance.  This is extremely important, though an explanation is best saved for later.  Then the number of rows and columns.  Follow this with a list of rows for the matrix, where each row is another list.  We use square brackets, ````[, ]```` to organize lists.  To actually see ````A```` we just write it as the last line."]},
{"cell_type" : "code", "execution_count" : null, "metadata" : {}, "source": [
"A = matrix(QQ, 3, 4, [[-1,  1,  1,  1],\n",
"                      [ 2, -1, -2, -3],\n",
"                      [-2,  2,  1, -1]])\n",
"A"],"outputs" : []},
{"cell_type": "markdown", "metadata": {}, "source": [
"Then use the ````.rref()```` method to compute the reduced row-echelon form."]},
{"cell_type": "markdown", "metadata": {}, "source": [
"**Exercise 1** "]},
{"cell_type": "markdown", "metadata": {}, "source": [
"Use a new cell, enter ````A.rref()````, and execute the cell."]},
{"cell_type" : "code", "execution_count" : null, "metadata" : {}, "source": [
""],"outputs" : []},
{"cell_type": "markdown", "metadata": {}, "source": [
"Here is a larger example."]},
{"cell_type" : "code", "execution_count" : null, "metadata" : {}, "source": [
"B = matrix(QQ, [[ 0,  0, -1,  3,  3, -1,  2, -1],\n",
"                [ 1, -5,  0, -4,  5, -2,  4,  4],\n",
"                [-1,  5, -1,  7, -2,  2, -5, -7],\n",
"                [-1,  5,  1,  1, -8,  3, -6, -3]])\n",
"B"],"outputs" : []},
{"cell_type": "markdown", "metadata": {}, "source": [
"**Exercise 2** "]},
{"cell_type": "markdown", "metadata": {}, "source": [
"As above, use a new cell to compute the reduced row-echelon form of ````B````."]},
{"cell_type" : "code", "execution_count" : null, "metadata" : {}, "source": [
""],"outputs" : []},
{"cell_type": "markdown", "metadata": {}, "source": [
"This work is Copyright 2016 by Robert A. Beezer.  It is licensed under a [Creative Commons Attribution-ShareAlike 4.0 International License](https://creativecommons.org/licenses/by-sa/4.0/)."]}],
"nbformat": 4,
"nbformat_minor": 0,
"metadata": {
  "kernelspec": {
    "display_name": "SageMath",
    "language": "",
    "name": "sagemath"
  },
  "language_info": {
    "codemirror_mode": {
      "name": "ipython",
      "version": 2
    },
    "file_extension": ".py",
    "mimetype": "text/x-python",
    "name": "python",
    "nbconvert_exporter": "python",
    "pygments_lexer": "ipython2",
    "version": "2.7.8"
  },
  "name": "RREF.ipynb"
  }
}
