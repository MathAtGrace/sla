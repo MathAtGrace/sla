{
"cells": [
{"cell_type": "markdown", "metadata": {}, "source": [
"$\\newcommand{\\lt}{<}\\newcommand{\\gt}{>}\\newcommand{\\amp}{&}$"]},
{"cell_type": "markdown", "metadata": {}, "source": [
"Sage has very capable linear transformations from $\\mathbb{Q}^n$ to $\\mathbb{Q}^m$."]},
{"cell_type": "markdown", "metadata": {}, "source": [
"## 1 Creation via Symbolic Functions"]},
{"cell_type": "markdown", "metadata": {}, "source": [
"Start with a symbolic function."]},
{"cell_type" : "code", "execution_count" : null, "metadata" : {}, "source": [
"var('x1 x2 x3 x4')\n",
"f(x1, x2, x3, x4) = (x1 + 2*x2 + x3 + 5*x4, x1 + 5*x2 + 4*x3 + 8*x4, -x2 - x3 - x4)"],"outputs" : []},
{"cell_type": "markdown", "metadata": {}, "source": [
"Then specify the domain and codomain.  We need to be careful about how ````T```` prints, Sage likes rows."]},
{"cell_type" : "code", "execution_count" : null, "metadata" : {}, "source": [
"T = linear_transformation(QQ^4, QQ^3, f)\n",
"T"],"outputs" : []},
{"cell_type": "markdown", "metadata": {}, "source": [
"At a most basic level, ````T```` behaves as a function."]},
{"cell_type" : "code", "execution_count" : null, "metadata" : {}, "source": [
"u = random_vector(ZZ, 4, x=-9, y=9).change_ring(QQ)\n",
"u, T(u)"],"outputs" : []},
{"cell_type": "markdown", "metadata": {}, "source": [
"We can check Theorem LTTZZ, zero goes to zero."]},
{"cell_type" : "code", "execution_count" : null, "metadata" : {}, "source": [
"z4 = zero_vector(QQ, 4)\n",
"z3 = zero_vector(QQ, 3)\n",
"z4, T(z4), T(z4) == z3"],"outputs" : []},
{"cell_type": "markdown", "metadata": {}, "source": [
"## 2 Creation via Matrices"]},
{"cell_type": "markdown", "metadata": {}, "source": [
"We can also create a linear transformation from a matrix, as in Theorem MBLT, with one caveat.  For a matrix $A$, the default is to create the function $T(\\mathbf{v})=\\mathbf{v}A$.  The keywords option ````side='right'```` will indicate that we want to put the vector on the right of the matrix."]},
{"cell_type" : "code", "execution_count" : null, "metadata" : {}, "source": [
"A = matrix(QQ, [[1, 2, 1, 5], [1, 5, 4, 8], [0, -1, -1, -1]])\n",
"S = linear_transformation(A, side='right')"],"outputs" : []},
{"cell_type": "markdown", "metadata": {}, "source": [
"Notice that we do not have to specify the domain or codomain, these are inferred from the size and type of the matrix.  ````S```` is not new, it is exactly the linear transformation ````T```` above."]},
{"cell_type" : "code", "execution_count" : null, "metadata" : {}, "source": [
"S == T"],"outputs" : []},
{"cell_type": "markdown", "metadata": {}, "source": [
"Again, notice how ````S```` prints  the matrix representation is the transpose of what we like to use.  This does not *change* the linear transformation as a function, it just changes how we think about it (we like linear combinations of columns, Sage likes linear combinations of rows)."]},
{"cell_type" : "code", "execution_count" : null, "metadata" : {}, "source": [
"A, S"],"outputs" : []},
{"cell_type": "markdown", "metadata": {}, "source": [
"## 3 Creation via Values on a Basis"]},
{"cell_type": "markdown", "metadata": {}, "source": [
"Starting with a domain and a codomain, we can provide a list of the images of basis vectors for the domain."]},
{"cell_type" : "code", "execution_count" : null, "metadata" : {}, "source": [
"v1 = vector(QQ, [1, 1, 0])\n",
"v2 = vector(QQ, [2, 5, -1])\n",
"v3 = vector(QQ, [1, 4, -1])\n",
"v4 = vector(QQ, [5, 8, -1])\n",
"R = linear_transformation(QQ^4, QQ^3, [v1, v2, v3, v4])"],"outputs" : []},
{"cell_type": "markdown", "metadata": {}, "source": [
"That's right  same function again."]},
{"cell_type" : "code", "execution_count" : null, "metadata" : {}, "source": [
"R == T"],"outputs" : []},
{"cell_type": "markdown", "metadata": {}, "source": [
"We can check how this construction works."]},
{"cell_type" : "code", "execution_count" : null, "metadata" : {}, "source": [
"d3 = R.domain().basis()[2]\n",
"R(d3); R(d3) == v3"],"outputs" : []},
{"cell_type": "markdown", "metadata": {}, "source": [
"We can give the domain an alternate basis and create a different linear transformation, despite seemingly having the same construction.  First we build the domain with a different user basis."]},
{"cell_type" : "code", "execution_count" : null, "metadata" : {}, "source": [
"u1 = vector(QQ, [1, 0, 0, 0])\n",
"u2 = vector(QQ, [1, 1, 0, 0])\n",
"u3 = vector(QQ, [1, 1, 1, 0])\n",
"u4 = vector(QQ, [1, 1, 1, 1])\n",
"dom4 = (QQ^4).subspace_with_basis([u1, u2, u3, u4])\n",
"dom4"],"outputs" : []},
{"cell_type" : "code", "execution_count" : null, "metadata" : {}, "source": [
"L = linear_transformation(dom4, QQ^3, [v1, v2, v3, v4])\n",
"L"],"outputs" : []},
{"cell_type": "markdown", "metadata": {}, "source": [
"Even though the matrix representation prints the same, this is not the same function, we will need ideas from Chapter R before we can understand the difference."]},
{"cell_type" : "code", "execution_count" : null, "metadata" : {}, "source": [
"R(u3), L(u3)"],"outputs" : []},
{"cell_type": "markdown", "metadata": {}, "source": [
"This code should consistently return ````False````."]},
{"cell_type" : "code", "execution_count" : null, "metadata" : {}, "source": [
"v = random_vector(QQ, 4)\n",
"R(v) == L(v)"],"outputs" : []},
{"cell_type": "markdown", "metadata": {}, "source": [
"## 4 Basic Properties"]},
{"cell_type": "markdown", "metadata": {}, "source": [
"Illustrations with ````T````."]},
{"cell_type" : "code", "execution_count" : null, "metadata" : {}, "source": [
"T.domain()"],"outputs" : []},
{"cell_type" : "code", "execution_count" : null, "metadata" : {}, "source": [
"T.codomain()"],"outputs" : []},
{"cell_type": "markdown", "metadata": {}, "source": [
"A defining property, so always ````True````."]},
{"cell_type" : "code", "execution_count" : null, "metadata" : {}, "source": [
"u = random_vector(QQ, 4)\n",
"v = random_vector(QQ, 4)\n",
"u, v, T(u+v) == T(u) + T(v)"],"outputs" : []},
{"cell_type": "markdown", "metadata": {}, "source": [
"A defining property, so also always ````True````."]},
{"cell_type" : "code", "execution_count" : null, "metadata" : {}, "source": [
"alpha = (QQ).random_element()\n",
"u = random_vector(QQ, 4)\n",
"alpha, u, T(alpha*u) == alpha*T(u)"],"outputs" : []},
{"cell_type": "markdown", "metadata": {}, "source": [
"We can do \"arithmetic\" with linear transformations, though the addition seems to allow bad things to happen."]},
{"cell_type" : "code", "execution_count" : null, "metadata" : {}, "source": [
"R+S"],"outputs" : []},
{"cell_type": "markdown", "metadata": {}, "source": [
"Scalar multiples also, and they are well-behaved."]},
{"cell_type" : "code", "execution_count" : null, "metadata" : {}, "source": [
"12*T"],"outputs" : []},
{"cell_type": "markdown", "metadata": {}, "source": [
"The following is wrong.  (In other words, there is a bug in Sage.)"]},
{"cell_type" : "code", "execution_count" : null, "metadata" : {}, "source": [
"P = R + L\n",
"P"],"outputs" : []},
{"cell_type": "markdown", "metadata": {}, "source": [
"As we can see"]},
{"cell_type" : "code", "execution_count" : null, "metadata" : {}, "source": [
"Q = L + R\n",
"Q.is_equal_function(P)"],"outputs" : []},
{"cell_type": "markdown", "metadata": {}, "source": [
"The problem is that Sage is simply adding the matrices representing the linear transformations, without checking that they are defined using domains with the *same* basis.  We will understand the subtlety better in Chapter R."]}],
"nbformat": 4,
"nbformat_minor": 0,
"metadata": {
  "kernelspec": {
    "display_name": "SageMath",
    "language": "",
    "name": "sagemath"
  },
  "language_info": {
    "codemirror_mode": {
      "name": "ipython",
      "version": 2
    },
    "file_extension": ".py",
    "mimetype": "text/x-python",
    "name": "python",
    "nbconvert_exporter": "python",
    "pygments_lexer": "ipython2",
    "version": "2.7.8"
  },
  "name": "LT.ipynb"
  }
}
