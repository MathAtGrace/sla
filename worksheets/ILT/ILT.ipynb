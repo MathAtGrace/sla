{
"cells": [
{"cell_type": "markdown", "metadata": {}, "source": [
"$\\newcommand{\\lt}{<}\\newcommand{\\gt}{>}\\newcommand{\\amp}{&}$"]},
{"cell_type": "markdown", "metadata": {}, "source": [
"## 1 Injective Linear Transformations"]},
{"cell_type": "markdown", "metadata": {}, "source": [
"Two carefully-crafted linear transformations: ````T```` is injective, ````S```` is not."]},
{"cell_type" : "code", "execution_count" : null, "metadata" : {}, "source": [
"A = matrix(QQ, [[1, 2, 2], [3, 7, 6], [1, 2, 1], [2, 5, 7]])\n",
"T = linear_transformation(QQ^3, QQ^4, A, side='right')"],"outputs" : []},
{"cell_type" : "code", "execution_count" : null, "metadata" : {}, "source": [
"T.is_injective()"],"outputs" : []},
{"cell_type" : "code", "execution_count" : null, "metadata" : {}, "source": [
"T.kernel()"],"outputs" : []},
{"cell_type" : "code", "execution_count" : null, "metadata" : {}, "source": [
"B = matrix(QQ, [[0, 1, -2], [-1, 1, 3], [-2, 5, 0], [0, 2, -4]])\n",
"S = linear_transformation(QQ^3, QQ^4, B, side='right')"],"outputs" : []},
{"cell_type" : "code", "execution_count" : null, "metadata" : {}, "source": [
"S.is_injective()"],"outputs" : []},
{"cell_type" : "code", "execution_count" : null, "metadata" : {}, "source": [
"K = S.kernel()\n",
"K"],"outputs" : []},
{"cell_type": "markdown", "metadata": {}, "source": [
"We create two different inputs, which differ by a random vector from the kernel (which we hope is not simply the zero vector, a distinct possibility).  We always get the same output from ````S````, predictably.  If we try this with ````T```` then the kernel vector is *always* the zero vector and the demonstration is very uninteresting."]},
{"cell_type" : "code", "execution_count" : null, "metadata" : {}, "source": [
"z = K.random_element()\n",
"u = random_vector(QQ, 3)\n",
"w = u + z\n",
"u, w, S(u), S(w), S(u) == S(w)"],"outputs" : []}],
"nbformat": 4,
"nbformat_minor": 0,
"metadata": {
  "kernelspec": {
    "display_name": "SageMath",
    "language": "",
    "name": "sagemath"
  },
  "language_info": {
    "codemirror_mode": {
      "name": "ipython",
      "version": 2
    },
    "file_extension": ".py",
    "mimetype": "text/x-python",
    "name": "python",
    "nbconvert_exporter": "python",
    "pygments_lexer": "ipython2",
    "version": "2.7.8"
  },
  "name": "ILT.ipynb"
  }
}
