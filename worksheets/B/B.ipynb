{
"cells": [
{"cell_type": "markdown", "metadata": {}, "source": [
"$\\newcommand{\\lt}{ < }\\newcommand{\\gt}{ > }\\newcommand{\\amp}{ & }$"]},
{"cell_type": "markdown", "metadata": {}, "source": [
"## 1 Bases"]},
{"cell_type": "markdown", "metadata": {}, "source": [
"Five \"random\" vectors, each with 4 entries, collected into a set ````S````."]},
{"cell_type" : "code", "execution_count" : null, "metadata" : {}, "source": [
"v1 = vector(QQ, [-4, -2,  3, -11])\n",
"v2 = vector(QQ, [-2,  7,  3,   9])\n",
"v3 = vector(QQ, [ 6, -4, -7,   5])\n",
"v4 = vector(QQ, [-1,  0,  3,  -4])\n",
"v5 = vector(QQ, [-4,  5, -5,  11])\n",
"S = [v1, v2, v3, v4, v5]"],"outputs" : []},
{"cell_type": "markdown", "metadata": {}, "source": [
"Consider the subspace spanned by these five vectors.  We will make these vectors the *rows* of a matrix and row-reduce to see a basis for the space (subspace, or row space, take your pick).  This is an application of Theorem BRS."]},
{"cell_type" : "code", "execution_count" : null, "metadata" : {}, "source": [
"A = matrix(S)\n",
"A"],"outputs" : []},
{"cell_type" : "code", "execution_count" : null, "metadata" : {}, "source": [
"A.rref()"],"outputs" : []},
{"cell_type": "markdown", "metadata": {}, "source": [
"Sage does this semi-automatically, tossing zero rows for us."]},
{"cell_type" : "code", "execution_count" : null, "metadata" : {}, "source": [
"W = span(S)\n",
"B = W.basis()\n",
"B"],"outputs" : []},
{"cell_type": "markdown", "metadata": {}, "source": [
"**Exercise 1** "]},
{"cell_type": "markdown", "metadata": {}, "source": [
"Construct a *random* vector, ````w````, in this subspace by choosing scalars for a linear combination of the vectors we used to build ````W```` as a span originally."]},
{"cell_type": "markdown", "metadata": {}, "source": [
"Then use the three *basis* vectors in ````B```` to recreate the vector ````w````.  Question: how many ways can you do this?  By Theorem VRRB there should always be exactly one way to create ````w```` using a linear combination of a basis of ````W````."]},
{"cell_type" : "code", "execution_count" : null, "metadata" : {}, "source": [
"w = *v1 + *v2 + *v3 + *v4 + *v5\n",
"w"],"outputs" : []},
{"cell_type" : "code", "execution_count" : null, "metadata" : {}, "source": [
"w in W"],"outputs" : []},
{"cell_type" : "code", "execution_count" : null, "metadata" : {}, "source": [
"*B[0] + *B[1] + *B[2]"],"outputs" : []},
{"cell_type": "markdown", "metadata": {}, "source": [
"## 2 Nonsingular Matrices"]},
{"cell_type": "markdown", "metadata": {}, "source": [
"We will obtain a basis of $\\mathbb{C}^{10}$ from the columns of a $10\\times 10$ nonsingular matrix."]},
{"cell_type" : "code", "execution_count" : null, "metadata" : {}, "source": [
"entries = [[ 1,  1,  1, -1, -2,  4,  2, -3,  1, -6],\n",
"           [-2, -1, -2,  2,  4, -7, -4,  5, -1,  7],\n",
"           [ 1, -1,  2, -2, -5,  8,  5, -3,  4, -4],\n",
"           [-1, -2,  0,  1,  0, -5,  0, -3, -5,  6],\n",
"           [ 0, -2,  1, -1, -2,  3,  2,  3,  3,  7],\n",
"           [ 1,  0,  1, -1, -2,  4,  2,  0,  2,  0],\n",
"           [-1,  0, -1,  1,  3, -1, -2,  7,  5,  1],\n",
"           [ 1,  1,  1, -1, -2,  8,  3,  2,  8, -6],\n",
"           [ 0,  2, -1,  1,  2, -1, -2,  2,  2, -6],\n",
"           [ 1,  3,  0,  0,  1,  3,  0,  0,  3, -8]]\n",
"M = matrix(QQ, entries)\n",
"M"],"outputs" : []},
{"cell_type" : "code", "execution_count" : null, "metadata" : {}, "source": [
"not M.is_singular()"],"outputs" : []},
{"cell_type": "markdown", "metadata": {}, "source": [
"A totally random vector with 10 entries:"]},
{"cell_type" : "code", "execution_count" : null, "metadata" : {}, "source": [
"v = random_vector(ZZ, 10, x=-9, y=9)\n",
"v"],"outputs" : []},
{"cell_type": "markdown", "metadata": {}, "source": [
"**Exercise 2** "]},
{"cell_type": "markdown", "metadata": {}, "source": [
"By Theorem CNMB, the columns of the matrix are a basis of $\\mathbb{C}^{10}$.  So the vector ````v```` should be a linear combination of the columns of the matrix.  Verify this fact in three ways.{"cell_type": "markdown", "metadata": {}, "source": [
"1.  "First, the old-fashioned way, thus exposing Theorem NMUS."1.  "Then, the modern way, with an inverse, since a nonsingular matrix is invertible, thus exposing Theorem SNCM."1.  "Finally, the Sage way, as described below.]}"]},
{"cell_type" : "code", "execution_count" : null, "metadata" : {}, "source": [
"aug = M.augment(v)\n",
"aug.rref()"],"outputs" : []},
{"cell_type" : "code", "execution_count" : null, "metadata" : {}, "source": [
"M.inverse()*v"],"outputs" : []},
{"cell_type": "markdown", "metadata": {}, "source": [
"The Sage way: first create a space with a **user basis**."]},
{"cell_type" : "code", "execution_count" : null, "metadata" : {}, "source": [
"X = (QQ^10).subspace_with_basis(M.columns())\n",
"X"],"outputs" : []},
{"cell_type": "markdown", "metadata": {}, "source": [
"Sage still carries an **echelonized basis**, in addition to the **user-installed** basis."]},
{"cell_type" : "code", "execution_count" : null, "metadata" : {}, "source": [
"X.basis()"],"outputs" : []},
{"cell_type" : "code", "execution_count" : null, "metadata" : {}, "source": [
"X.echelonized_basis()"],"outputs" : []},
{"cell_type": "markdown", "metadata": {}, "source": [
"Now ask for a coordinatization, relative to the basis in ````X````, thus exposing Theorem VRRB."]},
{"cell_type" : "code", "execution_count" : null, "metadata" : {}, "source": [
"X.coordinates(v)"],"outputs" : []},
{"cell_type": "markdown", "metadata": {}, "source": [
"## 3 Orthonormal Bases"]},
{"cell_type": "markdown", "metadata": {}, "source": [
"A particularly simple orthonormal basis of $\\mathbb{C}^3$, collected into the set ````S````."]},
{"cell_type" : "code", "execution_count" : null, "metadata" : {}, "source": [
"v1 = vector(QQ, [1/3, 2/3, 2/3])\n",
"v2 = vector(QQ, [2/3, -2/3, 1/3])\n",
"v3 = vector(QQ, [2/3, 1/3, -2/3])\n",
"S = [v1, v2, v3]"],"outputs" : []},
{"cell_type": "markdown", "metadata": {}, "source": [
"**Exercise 3** "]},
{"cell_type": "markdown", "metadata": {}, "source": [
"If these vectors are an orthonormal basis, then as the columns of a matrix they should create an orthonormal basis."]},
{"cell_type" : "code", "execution_count" : null, "metadata" : {}, "source": [
"Q = column_matrix(S)\n",
"Q"],"outputs" : []},
{"cell_type" : "code", "execution_count" : null, "metadata" : {}, "source": [
"Q.conjugate_transpose()*Q"],"outputs" : []},
{"cell_type" : "code", "execution_count" : null, "metadata" : {}, "source": [
"Q.is_unitary()"],"outputs" : []},
{"cell_type": "markdown", "metadata": {}, "source": [
"**Exercise 4** "]},
{"cell_type": "markdown", "metadata": {}, "source": [
"Build a random vector of size $3$ and find our ways to express the vector as a (unique) linear combination of the basis vectors.  Which method is most efficient?"]},
{"cell_type": "markdown", "metadata": {}, "source": [
"A totally random vector with 3 entries."]},
{"cell_type" : "code", "execution_count" : null, "metadata" : {}, "source": [
"v = random_vector(ZZ, 3, x=-9, y=9)\n",
"v"],"outputs" : []},
{"cell_type": "markdown", "metadata": {}, "source": [
"First, the old-fashioned way, thus exposing Theorem NMUS."]},
{"cell_type" : "code", "execution_count" : null, "metadata" : {}, "source": [
"aug = Q.augment(v)\n",
"aug.rref()"],"outputs" : []},
{"cell_type": "markdown", "metadata": {}, "source": [
"Now, the modern way, with an inverse, since a nonsingular matrix is invertible,  thus exposing Theorem SNCM."]},
{"cell_type" : "code", "execution_count" : null, "metadata" : {}, "source": [
"Q.inverse()*v"],"outputs" : []},
{"cell_type": "markdown", "metadata": {}, "source": [
"The Sage way. Create a space with a \"user basis\" and ask for a coordinatization, thus exposing Theorem VRRB."]},
{"cell_type" : "code", "execution_count" : null, "metadata" : {}, "source": [
"X = (QQ^3).subspace_with_basis(Q.columns())\n",
"X.coordinates(v)"],"outputs" : []},
{"cell_type": "markdown", "metadata": {}, "source": [
"Finally, exploiting the orthonormal basis, and computing scalars for the linear combination with an inner product, thus exposing Theorem COB.  (Sage's ````.inner_product()```` does not conjugate the entries of either vector, so we use the more careful ````.hermitian_inner_product()```` vector method instead.)"]},
{"cell_type" : "code", "execution_count" : null, "metadata" : {}, "source": [
"a1 = v1.hermitian_inner_product(v)\n",
"a2 = v2.hermitian_inner_product(v)\n",
"a3 = v3.hermitian_inner_product(v)\n",
"a1, a2, a3"],"outputs" : []}],
"nbformat": 4,
"nbformat_minor": 0,
"metadata": {
  "kernelspec": {
    "display_name": "SageMath",
    "language": "",
    "name": "sagemath"
  },
  "language_info": {
    "codemirror_mode": {
      "name": "ipython",
      "version": 2
    },
    "file_extension": ".py",
    "mimetype": "text/x-python",
    "name": "python",
    "nbconvert_exporter": "python",
    "pygments_lexer": "ipython2",
    "version": "2.7.8"
  },
  "name": "B.ipynb"
  }
}
