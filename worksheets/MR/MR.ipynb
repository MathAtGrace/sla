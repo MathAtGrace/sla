{
"cells": [
{"cell_type": "markdown", "metadata": {}, "source": [
"$\\newcommand{\\lt}{<}\\newcommand{\\gt}{>}\\newcommand{\\amp}{&}$"]},
{"cell_type": "markdown", "metadata": {}, "source": [
"## 1 A Linear Transformation and some Bases"]},
{"cell_type": "markdown", "metadata": {}, "source": [
"In this section we define a linear transformation from $\\mathbb{C}^6$ to $\\mathbb{C}^4$.  The definition is a $4\\times 6$ matrix of rank $4$ that we will use to multiply input vectors with a matrix-vector product.  It is not important if the linear transformation is injective and/or surjective."]},
{"cell_type" : "code", "execution_count" : null, "metadata" : {}, "source": [
"m, n = 4, 6\n",
"A = random_matrix(QQ, m, n, algorithm='echelonizable', rank=m, upper_bound=9)\n",
"A"],"outputs" : []},
{"cell_type" : "code", "execution_count" : null, "metadata" : {}, "source": [
"T = linear_transformation(A, side='right')\n",
"T"],"outputs" : []},
{"cell_type": "markdown", "metadata": {}, "source": [
"And we construct two random bases, one for the domain and one for the codomain, extracted from the columns of unimodular matrices."]},
{"cell_type" : "code", "execution_count" : null, "metadata" : {}, "source": [
"Dmat = random_matrix(QQ, n, n, algorithm='unimodular', upper_bound=9)\n",
"D = Dmat.columns()\n",
"D"],"outputs" : []},
{"cell_type" : "code", "execution_count" : null, "metadata" : {}, "source": [
"Cmat = random_matrix(QQ, m, m, algorithm='unimodular', upper_bound=9)\n",
"C = Cmat.columns()\n",
"C"],"outputs" : []},
{"cell_type": "markdown", "metadata": {}, "source": [
"## 2 A Matrix Representation, Old Style"]},
{"cell_type": "markdown", "metadata": {}, "source": [
"We will coordinatize the outputs of the linear transformation, for inputs from the basis of the domain, relative to the basis of the codomain, and pack them in a matrix."]},
{"cell_type": "markdown", "metadata": {}, "source": [
"Outputs on the domain basis first."]},
{"cell_type" : "code", "execution_count" : null, "metadata" : {}, "source": [
"outputs = [T(b) for b in D]\n",
"outputs"],"outputs" : []},
{"cell_type": "markdown", "metadata": {}, "source": [
"We make a vector space for the codomain, with the desired basis."]},
{"cell_type" : "code", "execution_count" : null, "metadata" : {}, "source": [
"VC = (QQ^m).subspace_with_basis(C)\n",
"VC"],"outputs" : []},
{"cell_type": "markdown", "metadata": {}, "source": [
"Now, coordinate versions of the outputs."]},
{"cell_type" : "code", "execution_count" : null, "metadata" : {}, "source": [
"coord = [VC.coordinate_vector(t) for t in outputs]\n",
"coord"],"outputs" : []},
{"cell_type": "markdown", "metadata": {}, "source": [
"And then we pack them into a matrix."]},
{"cell_type" : "code", "execution_count" : null, "metadata" : {}, "source": [
"rep = column_matrix(coord)\n",
"rep"],"outputs" : []},
{"cell_type": "markdown", "metadata": {}, "source": [
"Does the representation \"work\" as it should?  We need a vector space for the domain before we can check."]},
{"cell_type" : "code", "execution_count" : null, "metadata" : {}, "source": [
"VD = (QQ^n).subspace_with_basis(D)\n",
"VD"],"outputs" : []},
{"cell_type": "markdown", "metadata": {}, "source": [
"OK, coordinatize input, multiply by representation matrix, un-coordinatize (linear combination).  This is the fundamental Theorem FTMR at work."]},
{"cell_type" : "code", "execution_count" : null, "metadata" : {}, "source": [
"u = random_vector(QQ, 6)\n",
"out = VC.linear_combination_of_basis(rep*VD.coordinate_vector(u))\n",
"u, out, T(u) ==  out"],"outputs" : []},
{"cell_type": "markdown", "metadata": {}, "source": [
"Nice."]},
{"cell_type": "markdown", "metadata": {}, "source": [
"## 3 A Matrix Representation, Sage Style"]},
{"cell_type": "markdown", "metadata": {}, "source": [
"Now we do it Sage style.  The matrix of the linear transformation first, as we like to see it."]},
{"cell_type" : "code", "execution_count" : null, "metadata" : {}, "source": [
"T.matrix(side='right')"],"outputs" : []},
{"cell_type": "markdown", "metadata": {}, "source": [
"Now we replace the domain and codomain with new vector spaces, carrying different bases.  We are not really \"restricting\" the domain and codomain, we are replacing them by the same vector space, but each has a different basis."]},
{"cell_type" : "code", "execution_count" : null, "metadata" : {}, "source": [
"S = T.restrict_domain(VD).restrict_codomain(VC)\n",
"rep2 = S.matrix(side='right')\n",
"rep2"],"outputs" : []},
{"cell_type": "markdown", "metadata": {}, "source": [
"Bingo!  This is representation we found above.  A one-liner in Sage."]},
{"cell_type" : "code", "execution_count" : null, "metadata" : {}, "source": [
"rep2 == rep"],"outputs" : []},
{"cell_type": "markdown", "metadata": {}, "source": [
"## 4 Sneak Preview"]},
{"cell_type": "markdown", "metadata": {}, "source": [
"Ponder the following computation  matrix representations and nonsingular matrices with columns from the two bases."]},
{"cell_type" : "code", "execution_count" : null, "metadata" : {}, "source": [
"S.matrix(side='right') - Cmat.inverse()*T.matrix(side='right')*Dmat"],"outputs" : []},
{"cell_type": "markdown", "metadata": {}, "source": [
"Notice how Sage is conflicted about if ````S```` and ````T```` are equal or not."]},
{"cell_type" : "code", "execution_count" : null, "metadata" : {}, "source": [
"S == T"],"outputs" : []},
{"cell_type" : "code", "execution_count" : null, "metadata" : {}, "source": [
"S.is_equal_function(T)"],"outputs" : []}],
"nbformat": 4,
"nbformat_minor": 0,
"metadata": {
  "kernelspec": {
    "display_name": "SageMath",
    "language": "",
    "name": "sagemath"
  },
  "language_info": {
    "codemirror_mode": {
      "name": "ipython",
      "version": 2
    },
    "file_extension": ".py",
    "mimetype": "text/x-python",
    "name": "python",
    "nbconvert_exporter": "python",
    "pygments_lexer": "ipython2",
    "version": "2.7.8"
  },
  "name": "MR.ipynb"
  }
}
