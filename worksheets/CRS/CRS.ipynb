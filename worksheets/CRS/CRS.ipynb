{
"cells": [
{"cell_type": "markdown", "metadata": {}, "source": [
"$\\newcommand{\\lt}{ < }\\newcommand{\\gt}{ > }\\newcommand{\\amp}{ & }$"]},
{"cell_type": "markdown", "metadata": {}, "source": [
"## 1 Column and Row Spaces"]},
{"cell_type": "markdown", "metadata": {}, "source": [
"This is an illustration of Theorem CSCS (and the utility of linearly independent spanning sets). ````A```` is a $5\\times 7$ matrix."]},
{"cell_type" : "code", "execution_count" : null, "metadata" : {}, "source": [
"A = matrix(QQ, [[ 1, -1, -2,  0,  0, -2, 0],\n",
"                [-4,  5,  6, -3, -1,  5, 0],\n",
"                [-3, -2, -3,  1, -2, -2, 5],\n",
"                [-7,  3,  3, -2, -3,  3, 5],\n",
"                [-1, -5, -5,  4, -1, -3, 5]])\n",
"A"],"outputs" : []},
{"cell_type": "markdown", "metadata": {}, "source": [
"And its column space:"]},
{"cell_type" : "code", "execution_count" : null, "metadata" : {}, "source": [
"A.column_space()"],"outputs" : []},
{"cell_type": "markdown", "metadata": {}, "source": [
"Grab the elements of a linearly independent spanning set."]},
{"cell_type" : "code", "execution_count" : null, "metadata" : {}, "source": [
"S = A.column_space().basis()\n",
"S"],"outputs" : []},
{"cell_type": "markdown", "metadata": {}, "source": [
"**Exercise 1** "]},
{"cell_type": "markdown", "metadata": {}, "source": [
"Use the cells below to make a linear combination of the three vectors of the column space provided in ````S````.  Of course, this will also be a column space vector.  As such, we can use it as the vector of constants in a linear system of equations, and the system will be guaranteed to be consistent."]},
{"cell_type" : "code", "execution_count" : null, "metadata" : {}, "source": [
"b = *S[0] + *S[1] + *S[2]\n",
"b"],"outputs" : []},
{"cell_type" : "code", "execution_count" : null, "metadata" : {}, "source": [
"P = A.augment(b, subdivide=True)\n",
"P.rref()"],"outputs" : []},
{"cell_type" : "code", "execution_count" : null, "metadata" : {}, "source": [
""],"outputs" : []},
{"cell_type": "markdown", "metadata": {}, "source": [
"**Exercise 2** "]},
{"cell_type": "markdown", "metadata": {}, "source": [
"Repeat the exercise above, but with a slight variation to produce an inconsistent system.  Notice that the vectors of ````S```` have a nice pattern of zeros and ones in several of the entries (three to be precise).  The scalars you choose for the linear combination will automatically become three entries of the vector.  What about the other entries?  I like to say they are \"forced.\"  Let's wiggle one of these forced entries just a little bit.  Such a vector will now leave the column space and when used as a vector of constants, will create an inconsistent system."]},
{"cell_type" : "code", "execution_count" : null, "metadata" : {}, "source": [
"c = *S[0] + *S[1] + *S[2]\n",
"c"],"outputs" : []},
{"cell_type" : "code", "execution_count" : null, "metadata" : {}, "source": [
"d = copy(c)\n",
"d[4] = d[4]+1\n",
"d"],"outputs" : []},
{"cell_type" : "code", "execution_count" : null, "metadata" : {}, "source": [
"P = A.augment(d, subdivide=True)\n",
"P.rref()"],"outputs" : []},
{"cell_type" : "code", "execution_count" : null, "metadata" : {}, "source": [
""],"outputs" : []},
{"cell_type": "markdown", "metadata": {}, "source": [
"Moral of the Story: the elements of the column space are *exactly* those vectors of constants that lead to consistent systems.  It is easy, especially with a linearly independent spanning set for the column space, to make a vector of constants that yields an inconsistent system."]}],
"nbformat": 4,
"nbformat_minor": 0,
"metadata": {
  "kernelspec": {
    "display_name": "SageMath",
    "language": "",
    "name": "sagemath"
  },
  "language_info": {
    "codemirror_mode": {
      "name": "ipython",
      "version": 2
    },
    "file_extension": ".py",
    "mimetype": "text/x-python",
    "name": "python",
    "nbconvert_exporter": "python",
    "pygments_lexer": "ipython2",
    "version": "2.7.8"
  },
  "name": "CRS.ipynb"
  }
}
